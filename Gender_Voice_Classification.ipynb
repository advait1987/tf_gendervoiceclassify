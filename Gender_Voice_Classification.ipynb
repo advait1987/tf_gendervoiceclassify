{
  "nbformat": 4,
  "nbformat_minor": 0,
  "metadata": {
    "colab": {
      "name": "Gender Voice Classification",
      "version": "0.3.2",
      "provenance": [],
      "collapsed_sections": [],
      "toc_visible": true,
      "include_colab_link": true
    },
    "kernelspec": {
      "name": "python3",
      "display_name": "Python 3"
    }
  },
  "cells": [
    {
      "cell_type": "markdown",
      "metadata": {
        "id": "view-in-github",
        "colab_type": "text"
      },
      "source": [
        "<a href=\"https://colab.research.google.com/github/advait1987/tf_gendervoiceclassify/blob/master/Gender_Voice_Classification.ipynb\" target=\"_parent\"><img src=\"https://colab.research.google.com/assets/colab-badge.svg\" alt=\"Open In Colab\"/></a>"
      ]
    },
    {
      "cell_type": "code",
      "metadata": {
        "id": "KxKMWTdilGrb",
        "colab_type": "code",
        "colab": {
          "base_uri": "https://localhost:8080/",
          "height": 85
        },
        "outputId": "c10ac9bf-a8bd-4c5a-eaab-96590b226d0d"
      },
      "source": [
        "# This Python 3 environment comes with many helpful analytics libraries installed\n",
        "# It is defined by the kaggle/python docker image: https://github.com/kaggle/docker-python\n",
        "# For example, here's several helpful packages to load in \n",
        "\n",
        "import numpy as np # linear algebra\n",
        "import pandas as pd # data processing, CSV file I/O (e.g. pd.read_csv)\n",
        "!pip install -q tensorflow==2.0.0-alpha0\n",
        "import tensorflow as tf\n",
        "\n",
        "from tensorflow import feature_column\n",
        "from tensorflow.keras import layers\n",
        "from sklearn.model_selection import train_test_split"
      ],
      "execution_count": 9,
      "outputs": [
        {
          "output_type": "stream",
          "text": [
            "\u001b[K     |████████████████████████████████| 79.9MB 390kB/s \n",
            "\u001b[K     |████████████████████████████████| 3.0MB 37.3MB/s \n",
            "\u001b[K     |████████████████████████████████| 61kB 23.6MB/s \n",
            "\u001b[K     |████████████████████████████████| 419kB 46.3MB/s \n",
            "\u001b[?25h"
          ],
          "name": "stdout"
        }
      ]
    },
    {
      "cell_type": "code",
      "metadata": {
        "id": "O7sQSOR6mauE",
        "colab_type": "code",
        "outputId": "32449a82-cd02-426b-cb4d-2fa1f62e545a",
        "colab": {
          "base_uri": "https://localhost:8080/",
          "height": 34
        }
      },
      "source": [
        "# Input data files are available in the \"../input/\" directory.\n",
        "# For example, running this (by clicking run or pressing Shift+Enter) will list the files in the input directory\n",
        "\n",
        "from subprocess import check_output\n",
        "print(check_output([\"ls\", \"../tmp\"]).decode(\"utf8\"))\n",
        "\n",
        "# Any results you write to the current directory are saved as output."
      ],
      "execution_count": 10,
      "outputs": [
        {
          "output_type": "stream",
          "text": [
            "\n"
          ],
          "name": "stdout"
        }
      ]
    },
    {
      "cell_type": "code",
      "metadata": {
        "id": "Gpy9Uu1Jmiq3",
        "colab_type": "code",
        "colab": {}
      },
      "source": [
        "url = 'https://github.com/advait1987/tf_gendervoiceclassify/raw/master/voice.csv'\n",
        "dataframe = pd.read_csv(url)"
      ],
      "execution_count": 0,
      "outputs": []
    },
    {
      "cell_type": "markdown",
      "metadata": {
        "id": "c3ma_znwpX3c",
        "colab_type": "text"
      },
      "source": [
        "## **Explore**"
      ]
    },
    {
      "cell_type": "code",
      "metadata": {
        "id": "Ys_vEtTHnKiO",
        "colab_type": "code",
        "outputId": "9761aace-12c9-404a-e657-1dd2c6687d33",
        "colab": {
          "base_uri": "https://localhost:8080/",
          "height": 131
        }
      },
      "source": [
        "dataframe.head(2)"
      ],
      "execution_count": 47,
      "outputs": [
        {
          "output_type": "execute_result",
          "data": {
            "text/html": [
              "<div>\n",
              "<style scoped>\n",
              "    .dataframe tbody tr th:only-of-type {\n",
              "        vertical-align: middle;\n",
              "    }\n",
              "\n",
              "    .dataframe tbody tr th {\n",
              "        vertical-align: top;\n",
              "    }\n",
              "\n",
              "    .dataframe thead th {\n",
              "        text-align: right;\n",
              "    }\n",
              "</style>\n",
              "<table border=\"1\" class=\"dataframe\">\n",
              "  <thead>\n",
              "    <tr style=\"text-align: right;\">\n",
              "      <th></th>\n",
              "      <th>meanfreq</th>\n",
              "      <th>sd</th>\n",
              "      <th>median</th>\n",
              "      <th>Q25</th>\n",
              "      <th>Q75</th>\n",
              "      <th>IQR</th>\n",
              "      <th>skew</th>\n",
              "      <th>kurt</th>\n",
              "      <th>sp.ent</th>\n",
              "      <th>sfm</th>\n",
              "      <th>mode</th>\n",
              "      <th>centroid</th>\n",
              "      <th>meanfun</th>\n",
              "      <th>minfun</th>\n",
              "      <th>maxfun</th>\n",
              "      <th>meandom</th>\n",
              "      <th>mindom</th>\n",
              "      <th>maxdom</th>\n",
              "      <th>dfrange</th>\n",
              "      <th>modindx</th>\n",
              "      <th>label</th>\n",
              "    </tr>\n",
              "  </thead>\n",
              "  <tbody>\n",
              "    <tr>\n",
              "      <th>0</th>\n",
              "      <td>0.059781</td>\n",
              "      <td>0.064241</td>\n",
              "      <td>0.032027</td>\n",
              "      <td>0.015071</td>\n",
              "      <td>0.090193</td>\n",
              "      <td>0.075122</td>\n",
              "      <td>12.863462</td>\n",
              "      <td>274.402906</td>\n",
              "      <td>0.893369</td>\n",
              "      <td>0.491918</td>\n",
              "      <td>0.0</td>\n",
              "      <td>0.059781</td>\n",
              "      <td>0.084279</td>\n",
              "      <td>0.015702</td>\n",
              "      <td>0.275862</td>\n",
              "      <td>0.007812</td>\n",
              "      <td>0.007812</td>\n",
              "      <td>0.007812</td>\n",
              "      <td>0.000000</td>\n",
              "      <td>0.000000</td>\n",
              "      <td>male</td>\n",
              "    </tr>\n",
              "    <tr>\n",
              "      <th>1</th>\n",
              "      <td>0.066009</td>\n",
              "      <td>0.067310</td>\n",
              "      <td>0.040229</td>\n",
              "      <td>0.019414</td>\n",
              "      <td>0.092666</td>\n",
              "      <td>0.073252</td>\n",
              "      <td>22.423285</td>\n",
              "      <td>634.613855</td>\n",
              "      <td>0.892193</td>\n",
              "      <td>0.513724</td>\n",
              "      <td>0.0</td>\n",
              "      <td>0.066009</td>\n",
              "      <td>0.107937</td>\n",
              "      <td>0.015826</td>\n",
              "      <td>0.250000</td>\n",
              "      <td>0.009014</td>\n",
              "      <td>0.007812</td>\n",
              "      <td>0.054688</td>\n",
              "      <td>0.046875</td>\n",
              "      <td>0.052632</td>\n",
              "      <td>male</td>\n",
              "    </tr>\n",
              "  </tbody>\n",
              "</table>\n",
              "</div>"
            ],
            "text/plain": [
              "   meanfreq        sd    median       Q25  ...    maxdom   dfrange   modindx  label\n",
              "0  0.059781  0.064241  0.032027  0.015071  ...  0.007812  0.000000  0.000000   male\n",
              "1  0.066009  0.067310  0.040229  0.019414  ...  0.054688  0.046875  0.052632   male\n",
              "\n",
              "[2 rows x 21 columns]"
            ]
          },
          "metadata": {
            "tags": []
          },
          "execution_count": 47
        }
      ]
    },
    {
      "cell_type": "code",
      "metadata": {
        "id": "EOMcdosNBfGW",
        "colab_type": "code",
        "colab": {
          "base_uri": "https://localhost:8080/",
          "height": 131
        },
        "outputId": "d60d9a80-51b6-48c9-e805-5d37a2fde023"
      },
      "source": [
        "from sklearn.preprocessing import LabelEncoder\n",
        "gender_encoder = LabelEncoder()\n",
        "dataframe['label'] = gender_encoder.fit_transform(dataframe['label'])\n",
        "dataframe.head(2)"
      ],
      "execution_count": 53,
      "outputs": [
        {
          "output_type": "execute_result",
          "data": {
            "text/html": [
              "<div>\n",
              "<style scoped>\n",
              "    .dataframe tbody tr th:only-of-type {\n",
              "        vertical-align: middle;\n",
              "    }\n",
              "\n",
              "    .dataframe tbody tr th {\n",
              "        vertical-align: top;\n",
              "    }\n",
              "\n",
              "    .dataframe thead th {\n",
              "        text-align: right;\n",
              "    }\n",
              "</style>\n",
              "<table border=\"1\" class=\"dataframe\">\n",
              "  <thead>\n",
              "    <tr style=\"text-align: right;\">\n",
              "      <th></th>\n",
              "      <th>meanfreq</th>\n",
              "      <th>sd</th>\n",
              "      <th>median</th>\n",
              "      <th>Q25</th>\n",
              "      <th>Q75</th>\n",
              "      <th>IQR</th>\n",
              "      <th>skew</th>\n",
              "      <th>kurt</th>\n",
              "      <th>sp.ent</th>\n",
              "      <th>sfm</th>\n",
              "      <th>mode</th>\n",
              "      <th>centroid</th>\n",
              "      <th>meanfun</th>\n",
              "      <th>minfun</th>\n",
              "      <th>maxfun</th>\n",
              "      <th>meandom</th>\n",
              "      <th>mindom</th>\n",
              "      <th>maxdom</th>\n",
              "      <th>dfrange</th>\n",
              "      <th>modindx</th>\n",
              "      <th>label</th>\n",
              "    </tr>\n",
              "  </thead>\n",
              "  <tbody>\n",
              "    <tr>\n",
              "      <th>0</th>\n",
              "      <td>0.059781</td>\n",
              "      <td>0.064241</td>\n",
              "      <td>0.032027</td>\n",
              "      <td>0.015071</td>\n",
              "      <td>0.090193</td>\n",
              "      <td>0.075122</td>\n",
              "      <td>12.863462</td>\n",
              "      <td>274.402906</td>\n",
              "      <td>0.893369</td>\n",
              "      <td>0.491918</td>\n",
              "      <td>0.0</td>\n",
              "      <td>0.059781</td>\n",
              "      <td>0.084279</td>\n",
              "      <td>0.015702</td>\n",
              "      <td>0.275862</td>\n",
              "      <td>0.007812</td>\n",
              "      <td>0.007812</td>\n",
              "      <td>0.007812</td>\n",
              "      <td>0.000000</td>\n",
              "      <td>0.000000</td>\n",
              "      <td>1</td>\n",
              "    </tr>\n",
              "    <tr>\n",
              "      <th>1</th>\n",
              "      <td>0.066009</td>\n",
              "      <td>0.067310</td>\n",
              "      <td>0.040229</td>\n",
              "      <td>0.019414</td>\n",
              "      <td>0.092666</td>\n",
              "      <td>0.073252</td>\n",
              "      <td>22.423285</td>\n",
              "      <td>634.613855</td>\n",
              "      <td>0.892193</td>\n",
              "      <td>0.513724</td>\n",
              "      <td>0.0</td>\n",
              "      <td>0.066009</td>\n",
              "      <td>0.107937</td>\n",
              "      <td>0.015826</td>\n",
              "      <td>0.250000</td>\n",
              "      <td>0.009014</td>\n",
              "      <td>0.007812</td>\n",
              "      <td>0.054688</td>\n",
              "      <td>0.046875</td>\n",
              "      <td>0.052632</td>\n",
              "      <td>1</td>\n",
              "    </tr>\n",
              "  </tbody>\n",
              "</table>\n",
              "</div>"
            ],
            "text/plain": [
              "   meanfreq        sd    median       Q25  ...    maxdom   dfrange   modindx  label\n",
              "0  0.059781  0.064241  0.032027  0.015071  ...  0.007812  0.000000  0.000000      1\n",
              "1  0.066009  0.067310  0.040229  0.019414  ...  0.054688  0.046875  0.052632      1\n",
              "\n",
              "[2 rows x 21 columns]"
            ]
          },
          "metadata": {
            "tags": []
          },
          "execution_count": 53
        }
      ]
    },
    {
      "cell_type": "code",
      "metadata": {
        "id": "YDPEBCKJo2Gx",
        "colab_type": "code",
        "outputId": "3f00cb40-5d02-488f-efb0-f02ffb6bda2e",
        "colab": {
          "base_uri": "https://localhost:8080/",
          "height": 102
        }
      },
      "source": [
        "print(\"Total number of samples: {}\".format(dataframe.shape[0]))\n",
        "print(\"Number of male: {}\".format(dataframe[dataframe.label == 'male'].shape[0]))\n",
        "print(\"Number of female: {}\".format(dataframe[dataframe.label == 'female'].shape[0]))"
      ],
      "execution_count": 54,
      "outputs": [
        {
          "output_type": "stream",
          "text": [
            "Total number of samples: 3168\n",
            "Number of male: 0\n",
            "Number of female: 0\n"
          ],
          "name": "stdout"
        },
        {
          "output_type": "stream",
          "text": [
            "/usr/local/lib/python3.6/dist-packages/pandas/core/ops.py:1649: FutureWarning: elementwise comparison failed; returning scalar instead, but in the future will perform elementwise comparison\n",
            "  result = method(y)\n"
          ],
          "name": "stderr"
        }
      ]
    },
    {
      "cell_type": "markdown",
      "metadata": {
        "id": "xS1RQffBprt4",
        "colab_type": "text"
      },
      "source": [
        "Split Data"
      ]
    },
    {
      "cell_type": "code",
      "metadata": {
        "id": "0uYx38qRpkMw",
        "colab_type": "code",
        "outputId": "50dee3f1-eb5e-4b09-8c27-4577f5cb6e84",
        "colab": {
          "base_uri": "https://localhost:8080/",
          "height": 68
        }
      },
      "source": [
        "train, test = train_test_split(dataframe, test_size=0.2)\n",
        "train, val = train_test_split(train, test_size=0.2)\n",
        "print(len(train), 'train examples')\n",
        "print(len(val), 'validation examples')\n",
        "print(len(test), 'test examples')"
      ],
      "execution_count": 55,
      "outputs": [
        {
          "output_type": "stream",
          "text": [
            "2027 train examples\n",
            "507 validation examples\n",
            "634 test examples\n"
          ],
          "name": "stdout"
        }
      ]
    },
    {
      "cell_type": "markdown",
      "metadata": {
        "id": "uHYtPfUlp6kf",
        "colab_type": "text"
      },
      "source": [
        "**Create an input pipeline using tf.data**\n",
        "This will enable us to use feature columns as a bridge to map from the columns in the Pandas dataframe to features \n",
        "used to train the model. If we were working with a very large CSV file (so large that it does not fit into memory), we would use tf.data to read it from disk directly. That is not covered in this tutorial."
      ]
    },
    {
      "cell_type": "code",
      "metadata": {
        "id": "QL97G_M2us-g",
        "colab_type": "code",
        "colab": {}
      },
      "source": [
        "# A utility method to create a tf.data dataset from a Pandas Dataframe\n",
        "def df_to_dataset(dataframe, shuffle=True, batch_size=32):\n",
        "  dataframe = dataframe.copy()\n",
        "  labels = dataframe.pop('label')\n",
        "  ds = tf.data.Dataset.from_tensor_slices((dict(dataframe), labels))\n",
        "  if shuffle:\n",
        "    ds = ds.shuffle(buffer_size=len(dataframe))\n",
        "  ds = ds.batch(batch_size)\n",
        "  return ds\n",
        "\n",
        "batch_size = 5 # A small batch sized is used for demonstration purposes\n",
        "train_ds = df_to_dataset(train, batch_size=batch_size)\n",
        "val_ds = df_to_dataset(val, shuffle=False, batch_size=batch_size)\n",
        "test_ds = df_to_dataset(test, shuffle=False, batch_size=batch_size)"
      ],
      "execution_count": 0,
      "outputs": []
    },
    {
      "cell_type": "code",
      "metadata": {
        "id": "lzF_uWtNvlBv",
        "colab_type": "code",
        "outputId": "8b4236b6-64b9-418c-ff87-20b49e9689f4",
        "colab": {
          "base_uri": "https://localhost:8080/",
          "height": 88
        }
      },
      "source": [
        "# Test input pipeline\n",
        "for feature_batch, label_batch in train_ds.take(1):\n",
        "  print('Every feature:', list(feature_batch.keys()))\n",
        "  print('A batch of ages:', feature_batch['median'])\n",
        "  print('A batch of targets:', label_batch )"
      ],
      "execution_count": 57,
      "outputs": [
        {
          "output_type": "stream",
          "text": [
            "Every feature: ['meanfreq', 'sd', 'median', 'Q25', 'Q75', 'IQR', 'skew', 'kurt', 'sp.ent', 'sfm', 'mode', 'centroid', 'meanfun', 'minfun', 'maxfun', 'meandom', 'mindom', 'maxdom', 'dfrange', 'modindx']\n",
            "A batch of ages: tf.Tensor([0.24518919 0.17537634 0.19586207 0.17715818 0.19957895], shape=(5,), dtype=float64)\n",
            "A batch of targets: tf.Tensor([0 0 1 1 0], shape=(5,), dtype=int32)\n"
          ],
          "name": "stdout"
        }
      ]
    },
    {
      "cell_type": "markdown",
      "metadata": {
        "id": "WbZFAb7X3LLE",
        "colab_type": "text"
      },
      "source": [
        "Choose which columns to use"
      ]
    },
    {
      "cell_type": "code",
      "metadata": {
        "id": "-NRcwdv43QVE",
        "colab_type": "code",
        "colab": {
          "base_uri": "https://localhost:8080/",
          "height": 391
        },
        "outputId": "7a4541e8-f1f6-40ec-ec0b-600bff36a108"
      },
      "source": [
        "feature_columns = []\n",
        "\n",
        "# numeric cols\n",
        "for header in list(feature_batch.keys()):\n",
        "  feature_columns.append(feature_column.numeric_column(header))\n",
        "\n",
        "# bucketized cols\n",
        "#age_buckets = feature_column.bucketized_column(age, boundaries=[18, 25, 30, 35, 40, 45, 50, 55, 60, 65])\n",
        "#feature_columns.append(age_buckets)\n",
        "\n",
        "# indicator cols\n",
        "#thal = feature_column.categorical_column_with_vocabulary_list(\n",
        "#      'thal', ['fixed', 'normal', 'reversible'])\n",
        "#thal_one_hot = feature_column.indicator_column(thal)\n",
        "#feature_columns.append(thal_one_hot)\n",
        "\n",
        "# embedding cols\n",
        "#thal_embedding = feature_column.embedding_column(thal, dimension=8)\n",
        "#feature_columns.append(thal_embedding)\n",
        "\n",
        "# crossed cols\n",
        "#crossed_feature = feature_column.crossed_column([age_buckets, thal], hash_bucket_size=1000)\n",
        "#crossed_feature = feature_column.indicator_column(crossed_feature)\n",
        "#feature_columns.append(crossed_feature)\n",
        "\n",
        "#print (feature_columns)\n",
        "dataframe.dtypes"
      ],
      "execution_count": 58,
      "outputs": [
        {
          "output_type": "execute_result",
          "data": {
            "text/plain": [
              "meanfreq    float64\n",
              "sd          float64\n",
              "median      float64\n",
              "Q25         float64\n",
              "Q75         float64\n",
              "IQR         float64\n",
              "skew        float64\n",
              "kurt        float64\n",
              "sp.ent      float64\n",
              "sfm         float64\n",
              "mode        float64\n",
              "centroid    float64\n",
              "meanfun     float64\n",
              "minfun      float64\n",
              "maxfun      float64\n",
              "meandom     float64\n",
              "mindom      float64\n",
              "maxdom      float64\n",
              "dfrange     float64\n",
              "modindx     float64\n",
              "label         int64\n",
              "dtype: object"
            ]
          },
          "metadata": {
            "tags": []
          },
          "execution_count": 58
        }
      ]
    },
    {
      "cell_type": "markdown",
      "metadata": {
        "id": "3PjOlTfX34Gk",
        "colab_type": "text"
      },
      "source": [
        "**Create feature later**"
      ]
    },
    {
      "cell_type": "code",
      "metadata": {
        "id": "fLeTso8w39lC",
        "colab_type": "code",
        "colab": {}
      },
      "source": [
        "feature_layer = tf.keras.layers.DenseFeatures(feature_columns)\n",
        "#Earlier, we used a small batch size to demonstrate how feature columns worked. We create a new input pipeline with a larger batch size.\n",
        "batch_size = 32\n",
        "train_ds = df_to_dataset(train, batch_size=batch_size)\n",
        "val_ds = df_to_dataset(val, shuffle=False, batch_size=batch_size)\n",
        "test_ds = df_to_dataset(test, shuffle=False, batch_size=batch_size)"
      ],
      "execution_count": 0,
      "outputs": []
    },
    {
      "cell_type": "markdown",
      "metadata": {
        "id": "HYxg7xfy4Let",
        "colab_type": "text"
      },
      "source": [
        "**Create, compile, and train the model**"
      ]
    },
    {
      "cell_type": "code",
      "metadata": {
        "id": "XJbAiVJBpyJF",
        "colab_type": "code",
        "colab": {
          "base_uri": "https://localhost:8080/",
          "height": 1377
        },
        "outputId": "1503765c-e73d-40d0-9ad4-bc2ffeb66806"
      },
      "source": [
        "class myCallback(tf.keras.callbacks.Callback):\n",
        "  def on_epoch_end(self, epoch, logs={}):\n",
        "    if(logs.get('acc')>0.90):\n",
        "      print (logs.get('acc'))\n",
        "      print(\"\\nReached 90% accuracy so cancelling training!\")\n",
        "      self.model.stop_training = True\n",
        "\n",
        "callbacks = myCallback()   \n",
        "\n",
        "model = tf.keras.Sequential([\n",
        "  feature_layer,\n",
        "  #tf.keras.layers.Conv1D(32, (3), input_shape=(20,1), activation='relu'),\n",
        "  #tf.keras.layers.MaxPooling2D(2, 2),\n",
        "  #tf.keras.layers.Flatten(),\n",
        "  tf.keras.layers.Dense(128, activation='relu'),\n",
        "  tf.keras.layers.Dense(1, activation='sigmoid')\n",
        "])\n",
        "\n",
        "model.compile(optimizer='adam',\n",
        "              loss='binary_crossentropy',\n",
        "              metrics=['acc'])\n",
        "\n",
        "\n",
        "model.fit(train_ds,\n",
        "          validation_data=val_ds,\n",
        "          epochs=50,\n",
        "          callbacks=[callbacks])"
      ],
      "execution_count": 87,
      "outputs": [
        {
          "output_type": "stream",
          "text": [
            "Epoch 1/50\n",
            "64/64 [==============================] - 2s 27ms/step - loss: 0.6981 - acc: 0.5033 - val_loss: 0.7296 - val_acc: 0.5483\n",
            "Epoch 2/50\n",
            "64/64 [==============================] - 1s 19ms/step - loss: 0.7098 - acc: 0.6100 - val_loss: 0.6815 - val_acc: 0.6036\n",
            "Epoch 3/50\n",
            "64/64 [==============================] - 1s 19ms/step - loss: 0.6153 - acc: 0.6637 - val_loss: 0.6196 - val_acc: 0.6686\n",
            "Epoch 4/50\n",
            "64/64 [==============================] - 1s 20ms/step - loss: 0.6537 - acc: 0.7037 - val_loss: 0.6151 - val_acc: 0.6746\n",
            "Epoch 5/50\n",
            "64/64 [==============================] - 1s 19ms/step - loss: 0.6381 - acc: 0.7258 - val_loss: 0.6308 - val_acc: 0.6726\n",
            "Epoch 6/50\n",
            "64/64 [==============================] - 1s 20ms/step - loss: 0.6211 - acc: 0.7291 - val_loss: 0.6191 - val_acc: 0.6903\n",
            "Epoch 7/50\n",
            "64/64 [==============================] - 1s 19ms/step - loss: 0.6075 - acc: 0.7331 - val_loss: 0.6323 - val_acc: 0.6903\n",
            "Epoch 8/50\n",
            "64/64 [==============================] - 1s 19ms/step - loss: 0.5916 - acc: 0.7356 - val_loss: 0.6318 - val_acc: 0.7022\n",
            "Epoch 9/50\n",
            "64/64 [==============================] - 1s 20ms/step - loss: 0.5714 - acc: 0.7467 - val_loss: 0.5278 - val_acc: 0.7278\n",
            "Epoch 10/50\n",
            "64/64 [==============================] - 1s 20ms/step - loss: 0.5746 - acc: 0.7619 - val_loss: 0.6680 - val_acc: 0.7041\n",
            "Epoch 11/50\n",
            "64/64 [==============================] - 1s 21ms/step - loss: 0.5336 - acc: 0.7520 - val_loss: 0.5565 - val_acc: 0.7535\n",
            "Epoch 12/50\n",
            "64/64 [==============================] - 1s 20ms/step - loss: 0.5471 - acc: 0.7805 - val_loss: 0.5824 - val_acc: 0.7278\n",
            "Epoch 13/50\n",
            "64/64 [==============================] - 1s 20ms/step - loss: 0.5649 - acc: 0.7767 - val_loss: 0.5565 - val_acc: 0.7298\n",
            "Epoch 14/50\n",
            "64/64 [==============================] - 1s 19ms/step - loss: 0.4984 - acc: 0.7724 - val_loss: 0.5418 - val_acc: 0.7791\n",
            "Epoch 15/50\n",
            "64/64 [==============================] - 1s 20ms/step - loss: 0.4866 - acc: 0.8003 - val_loss: 0.5577 - val_acc: 0.7791\n",
            "Epoch 16/50\n",
            "64/64 [==============================] - 1s 20ms/step - loss: 0.5012 - acc: 0.8111 - val_loss: 0.5173 - val_acc: 0.7811\n",
            "Epoch 17/50\n",
            "64/64 [==============================] - 1s 20ms/step - loss: 0.4656 - acc: 0.8148 - val_loss: 0.4995 - val_acc: 0.8067\n",
            "Epoch 18/50\n",
            "64/64 [==============================] - 1s 20ms/step - loss: 0.4999 - acc: 0.8116 - val_loss: 0.4467 - val_acc: 0.8304\n",
            "Epoch 19/50\n",
            "64/64 [==============================] - 1s 20ms/step - loss: 0.4427 - acc: 0.8534 - val_loss: 0.5356 - val_acc: 0.8087\n",
            "Epoch 20/50\n",
            "64/64 [==============================] - 1s 20ms/step - loss: 0.4524 - acc: 0.8300 - val_loss: 0.5128 - val_acc: 0.8166\n",
            "Epoch 21/50\n",
            "64/64 [==============================] - 1s 20ms/step - loss: 0.4409 - acc: 0.8325 - val_loss: 0.4674 - val_acc: 0.8304\n",
            "Epoch 22/50\n",
            "64/64 [==============================] - 1s 20ms/step - loss: 0.4327 - acc: 0.8479 - val_loss: 0.5447 - val_acc: 0.8225\n",
            "Epoch 23/50\n",
            "64/64 [==============================] - 1s 19ms/step - loss: 0.4400 - acc: 0.8391 - val_loss: 0.4295 - val_acc: 0.8402\n",
            "Epoch 24/50\n",
            "64/64 [==============================] - 1s 20ms/step - loss: 0.4015 - acc: 0.8590 - val_loss: 0.4765 - val_acc: 0.8363\n",
            "Epoch 25/50\n",
            "64/64 [==============================] - 1s 20ms/step - loss: 0.4540 - acc: 0.8494 - val_loss: 0.4018 - val_acc: 0.8422\n",
            "Epoch 26/50\n",
            "64/64 [==============================] - 1s 20ms/step - loss: 0.4169 - acc: 0.8644 - val_loss: 0.4394 - val_acc: 0.8501\n",
            "Epoch 27/50\n",
            "64/64 [==============================] - 1s 20ms/step - loss: 0.4683 - acc: 0.8565 - val_loss: 0.4032 - val_acc: 0.8363\n",
            "Epoch 28/50\n",
            "64/64 [==============================] - 1s 21ms/step - loss: 0.4055 - acc: 0.8652 - val_loss: 0.4088 - val_acc: 0.8580\n",
            "Epoch 29/50\n",
            "64/64 [==============================] - 1s 21ms/step - loss: 0.4296 - acc: 0.8597 - val_loss: 0.4605 - val_acc: 0.8422\n",
            "Epoch 30/50\n",
            "64/64 [==============================] - 1s 20ms/step - loss: 0.3786 - acc: 0.8727 - val_loss: 0.4019 - val_acc: 0.8619\n",
            "Epoch 31/50\n",
            "64/64 [==============================] - 1s 20ms/step - loss: 0.4362 - acc: 0.8638 - val_loss: 0.3625 - val_acc: 0.8817\n",
            "Epoch 32/50\n",
            "64/64 [==============================] - 1s 20ms/step - loss: 0.3515 - acc: 0.8837 - val_loss: 0.3938 - val_acc: 0.8659\n",
            "Epoch 33/50\n",
            "64/64 [==============================] - 1s 20ms/step - loss: 0.4385 - acc: 0.8707 - val_loss: 0.3650 - val_acc: 0.8955\n",
            "Epoch 34/50\n",
            "64/64 [==============================] - 1s 20ms/step - loss: 0.3333 - acc: 0.8907 - val_loss: 0.3868 - val_acc: 0.8698\n",
            "Epoch 35/50\n",
            "64/64 [==============================] - 1s 20ms/step - loss: 0.4229 - acc: 0.8785 - val_loss: 0.3441 - val_acc: 0.8994\n",
            "Epoch 36/50\n",
            "64/64 [==============================] - 1s 21ms/step - loss: 0.3279 - acc: 0.8929 - val_loss: 0.3934 - val_acc: 0.8738\n",
            "Epoch 37/50\n",
            "64/64 [==============================] - 1s 20ms/step - loss: 0.3446 - acc: 0.8890 - val_loss: 0.4214 - val_acc: 0.8777\n",
            "Epoch 38/50\n",
            "63/64 [============================>.] - ETA: 0s - loss: 0.3250 - acc: 0.88860.9003453\n",
            "\n",
            "Reached 99% accuracy so cancelling training!\n",
            "64/64 [==============================] - 1s 20ms/step - loss: 0.3229 - acc: 0.8889 - val_loss: 0.3960 - val_acc: 0.8876\n"
          ],
          "name": "stdout"
        },
        {
          "output_type": "execute_result",
          "data": {
            "text/plain": [
              "<tensorflow.python.keras.callbacks.History at 0x7fd6f632e518>"
            ]
          },
          "metadata": {
            "tags": []
          },
          "execution_count": 87
        }
      ]
    },
    {
      "cell_type": "markdown",
      "metadata": {
        "id": "Wy4emRxVqDtj",
        "colab_type": "text"
      },
      "source": [
        "**Accuracy**"
      ]
    },
    {
      "cell_type": "code",
      "metadata": {
        "id": "H9T0TS5-qC8E",
        "colab_type": "code",
        "colab": {
          "base_uri": "https://localhost:8080/",
          "height": 51
        },
        "outputId": "5661d353-7587-41ef-986d-4a7e4f1d2866"
      },
      "source": [
        "loss, accuracy = model.evaluate(test_ds)\n",
        "print(\"Accuracy\", accuracy)"
      ],
      "execution_count": 75,
      "outputs": [
        {
          "output_type": "stream",
          "text": [
            "20/20 [==============================] - 0s 11ms/step - loss: 0.3626 - acc: 0.9290\n",
            "Accuracy 0.9290221\n"
          ],
          "name": "stdout"
        }
      ]
    },
    {
      "cell_type": "code",
      "metadata": {
        "id": "L7cB2UGHB-Re",
        "colab_type": "code",
        "colab": {}
      },
      "source": [
        ""
      ],
      "execution_count": 0,
      "outputs": []
    }
  ]
}