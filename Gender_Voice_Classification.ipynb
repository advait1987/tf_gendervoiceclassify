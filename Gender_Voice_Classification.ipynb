{
  "nbformat": 4,
  "nbformat_minor": 0,
  "metadata": {
    "colab": {
      "name": "Gender Voice Classification",
      "version": "0.3.2",
      "provenance": [],
      "collapsed_sections": [],
      "include_colab_link": true
    },
    "kernelspec": {
      "name": "python3",
      "display_name": "Python 3"
    }
  },
  "cells": [
    {
      "cell_type": "markdown",
      "metadata": {
        "id": "view-in-github",
        "colab_type": "text"
      },
      "source": [
        "<a href=\"https://colab.research.google.com/github/advait1987/tf_gendervoiceclassify/blob/master/Gender_Voice_Classification.ipynb\" target=\"_parent\"><img src=\"https://colab.research.google.com/assets/colab-badge.svg\" alt=\"Open In Colab\"/></a>"
      ]
    },
    {
      "cell_type": "code",
      "metadata": {
        "id": "KxKMWTdilGrb",
        "colab_type": "code",
        "colab": {}
      },
      "source": [
        "# This Python 3 environment comes with many helpful analytics libraries installed\n",
        "# It is defined by the kaggle/python docker image: https://github.com/kaggle/docker-python\n",
        "# For example, here's several helpful packages to load in \n",
        "\n",
        "import numpy as np # linear algebra\n",
        "import pandas as pd # data processing, CSV file I/O (e.g. pd.read_csv)\n",
        "!pip install -q tensorflow==2.0.0-alpha0\n",
        "import tensorflow as tf\n",
        "\n",
        "from tensorflow import feature_column\n",
        "from tensorflow.keras import layers\n",
        "from sklearn.model_selection import train_test_split"
      ],
      "execution_count": 0,
      "outputs": []
    },
    {
      "cell_type": "code",
      "metadata": {
        "id": "O7sQSOR6mauE",
        "colab_type": "code",
        "outputId": "edeef8de-3d24-4888-9e58-b495f93ef97d",
        "colab": {
          "base_uri": "https://localhost:8080/",
          "height": 34
        }
      },
      "source": [
        "# Input data files are available in the \"../input/\" directory.\n",
        "# For example, running this (by clicking run or pressing Shift+Enter) will list the files in the input directory\n",
        "\n",
        "from subprocess import check_output\n",
        "print(check_output([\"ls\", \"../tmp\"]).decode(\"utf8\"))\n",
        "\n",
        "# Any results you write to the current directory are saved as output."
      ],
      "execution_count": 15,
      "outputs": [
        {
          "output_type": "stream",
          "text": [
            "\n"
          ],
          "name": "stdout"
        }
      ]
    },
    {
      "cell_type": "code",
      "metadata": {
        "id": "Gpy9Uu1Jmiq3",
        "colab_type": "code",
        "colab": {}
      },
      "source": [
        "url = 'https://github.com/advait1987/tf_gendervoiceclassify/raw/master/voice.csv'\n",
        "dataframe = pd.read_csv(url)"
      ],
      "execution_count": 0,
      "outputs": []
    },
    {
      "cell_type": "markdown",
      "metadata": {
        "id": "c3ma_znwpX3c",
        "colab_type": "text"
      },
      "source": [
        "## **Explore**"
      ]
    },
    {
      "cell_type": "code",
      "metadata": {
        "id": "Ys_vEtTHnKiO",
        "colab_type": "code",
        "outputId": "a1fd84ef-24e5-4d08-9162-01c514536b41",
        "colab": {
          "base_uri": "https://localhost:8080/",
          "height": 111
        }
      },
      "source": [
        "dataframe.head(2)"
      ],
      "execution_count": 17,
      "outputs": [
        {
          "output_type": "execute_result",
          "data": {
            "text/html": [
              "<div>\n",
              "<style scoped>\n",
              "    .dataframe tbody tr th:only-of-type {\n",
              "        vertical-align: middle;\n",
              "    }\n",
              "\n",
              "    .dataframe tbody tr th {\n",
              "        vertical-align: top;\n",
              "    }\n",
              "\n",
              "    .dataframe thead th {\n",
              "        text-align: right;\n",
              "    }\n",
              "</style>\n",
              "<table border=\"1\" class=\"dataframe\">\n",
              "  <thead>\n",
              "    <tr style=\"text-align: right;\">\n",
              "      <th></th>\n",
              "      <th>meanfreq</th>\n",
              "      <th>sd</th>\n",
              "      <th>median</th>\n",
              "      <th>Q25</th>\n",
              "      <th>Q75</th>\n",
              "      <th>IQR</th>\n",
              "      <th>skew</th>\n",
              "      <th>kurt</th>\n",
              "      <th>sp.ent</th>\n",
              "      <th>sfm</th>\n",
              "      <th>mode</th>\n",
              "      <th>centroid</th>\n",
              "      <th>meanfun</th>\n",
              "      <th>minfun</th>\n",
              "      <th>maxfun</th>\n",
              "      <th>meandom</th>\n",
              "      <th>mindom</th>\n",
              "      <th>maxdom</th>\n",
              "      <th>dfrange</th>\n",
              "      <th>modindx</th>\n",
              "      <th>label</th>\n",
              "    </tr>\n",
              "  </thead>\n",
              "  <tbody>\n",
              "    <tr>\n",
              "      <th>0</th>\n",
              "      <td>0.059781</td>\n",
              "      <td>0.064241</td>\n",
              "      <td>0.032027</td>\n",
              "      <td>0.015071</td>\n",
              "      <td>0.090193</td>\n",
              "      <td>0.075122</td>\n",
              "      <td>12.863462</td>\n",
              "      <td>274.402906</td>\n",
              "      <td>0.893369</td>\n",
              "      <td>0.491918</td>\n",
              "      <td>0.0</td>\n",
              "      <td>0.059781</td>\n",
              "      <td>0.084279</td>\n",
              "      <td>0.015702</td>\n",
              "      <td>0.275862</td>\n",
              "      <td>0.007812</td>\n",
              "      <td>0.007812</td>\n",
              "      <td>0.007812</td>\n",
              "      <td>0.000000</td>\n",
              "      <td>0.000000</td>\n",
              "      <td>male</td>\n",
              "    </tr>\n",
              "    <tr>\n",
              "      <th>1</th>\n",
              "      <td>0.066009</td>\n",
              "      <td>0.067310</td>\n",
              "      <td>0.040229</td>\n",
              "      <td>0.019414</td>\n",
              "      <td>0.092666</td>\n",
              "      <td>0.073252</td>\n",
              "      <td>22.423285</td>\n",
              "      <td>634.613855</td>\n",
              "      <td>0.892193</td>\n",
              "      <td>0.513724</td>\n",
              "      <td>0.0</td>\n",
              "      <td>0.066009</td>\n",
              "      <td>0.107937</td>\n",
              "      <td>0.015826</td>\n",
              "      <td>0.250000</td>\n",
              "      <td>0.009014</td>\n",
              "      <td>0.007812</td>\n",
              "      <td>0.054688</td>\n",
              "      <td>0.046875</td>\n",
              "      <td>0.052632</td>\n",
              "      <td>male</td>\n",
              "    </tr>\n",
              "  </tbody>\n",
              "</table>\n",
              "</div>"
            ],
            "text/plain": [
              "   meanfreq        sd    median       Q25  ...    maxdom   dfrange   modindx  label\n",
              "0  0.059781  0.064241  0.032027  0.015071  ...  0.007812  0.000000  0.000000   male\n",
              "1  0.066009  0.067310  0.040229  0.019414  ...  0.054688  0.046875  0.052632   male\n",
              "\n",
              "[2 rows x 21 columns]"
            ]
          },
          "metadata": {
            "tags": []
          },
          "execution_count": 17
        }
      ]
    },
    {
      "cell_type": "code",
      "metadata": {
        "id": "EOMcdosNBfGW",
        "colab_type": "code",
        "outputId": "854df883-7ee6-44d3-d8b4-ef856a040bfc",
        "colab": {
          "base_uri": "https://localhost:8080/",
          "height": 111
        }
      },
      "source": [
        "from sklearn.preprocessing import LabelEncoder\n",
        "gender_encoder = LabelEncoder()\n",
        "dataframe['label'] = gender_encoder.fit_transform(dataframe['label'])\n",
        "dataframe.head(2)"
      ],
      "execution_count": 18,
      "outputs": [
        {
          "output_type": "execute_result",
          "data": {
            "text/html": [
              "<div>\n",
              "<style scoped>\n",
              "    .dataframe tbody tr th:only-of-type {\n",
              "        vertical-align: middle;\n",
              "    }\n",
              "\n",
              "    .dataframe tbody tr th {\n",
              "        vertical-align: top;\n",
              "    }\n",
              "\n",
              "    .dataframe thead th {\n",
              "        text-align: right;\n",
              "    }\n",
              "</style>\n",
              "<table border=\"1\" class=\"dataframe\">\n",
              "  <thead>\n",
              "    <tr style=\"text-align: right;\">\n",
              "      <th></th>\n",
              "      <th>meanfreq</th>\n",
              "      <th>sd</th>\n",
              "      <th>median</th>\n",
              "      <th>Q25</th>\n",
              "      <th>Q75</th>\n",
              "      <th>IQR</th>\n",
              "      <th>skew</th>\n",
              "      <th>kurt</th>\n",
              "      <th>sp.ent</th>\n",
              "      <th>sfm</th>\n",
              "      <th>mode</th>\n",
              "      <th>centroid</th>\n",
              "      <th>meanfun</th>\n",
              "      <th>minfun</th>\n",
              "      <th>maxfun</th>\n",
              "      <th>meandom</th>\n",
              "      <th>mindom</th>\n",
              "      <th>maxdom</th>\n",
              "      <th>dfrange</th>\n",
              "      <th>modindx</th>\n",
              "      <th>label</th>\n",
              "    </tr>\n",
              "  </thead>\n",
              "  <tbody>\n",
              "    <tr>\n",
              "      <th>0</th>\n",
              "      <td>0.059781</td>\n",
              "      <td>0.064241</td>\n",
              "      <td>0.032027</td>\n",
              "      <td>0.015071</td>\n",
              "      <td>0.090193</td>\n",
              "      <td>0.075122</td>\n",
              "      <td>12.863462</td>\n",
              "      <td>274.402906</td>\n",
              "      <td>0.893369</td>\n",
              "      <td>0.491918</td>\n",
              "      <td>0.0</td>\n",
              "      <td>0.059781</td>\n",
              "      <td>0.084279</td>\n",
              "      <td>0.015702</td>\n",
              "      <td>0.275862</td>\n",
              "      <td>0.007812</td>\n",
              "      <td>0.007812</td>\n",
              "      <td>0.007812</td>\n",
              "      <td>0.000000</td>\n",
              "      <td>0.000000</td>\n",
              "      <td>1</td>\n",
              "    </tr>\n",
              "    <tr>\n",
              "      <th>1</th>\n",
              "      <td>0.066009</td>\n",
              "      <td>0.067310</td>\n",
              "      <td>0.040229</td>\n",
              "      <td>0.019414</td>\n",
              "      <td>0.092666</td>\n",
              "      <td>0.073252</td>\n",
              "      <td>22.423285</td>\n",
              "      <td>634.613855</td>\n",
              "      <td>0.892193</td>\n",
              "      <td>0.513724</td>\n",
              "      <td>0.0</td>\n",
              "      <td>0.066009</td>\n",
              "      <td>0.107937</td>\n",
              "      <td>0.015826</td>\n",
              "      <td>0.250000</td>\n",
              "      <td>0.009014</td>\n",
              "      <td>0.007812</td>\n",
              "      <td>0.054688</td>\n",
              "      <td>0.046875</td>\n",
              "      <td>0.052632</td>\n",
              "      <td>1</td>\n",
              "    </tr>\n",
              "  </tbody>\n",
              "</table>\n",
              "</div>"
            ],
            "text/plain": [
              "   meanfreq        sd    median       Q25  ...    maxdom   dfrange   modindx  label\n",
              "0  0.059781  0.064241  0.032027  0.015071  ...  0.007812  0.000000  0.000000      1\n",
              "1  0.066009  0.067310  0.040229  0.019414  ...  0.054688  0.046875  0.052632      1\n",
              "\n",
              "[2 rows x 21 columns]"
            ]
          },
          "metadata": {
            "tags": []
          },
          "execution_count": 18
        }
      ]
    },
    {
      "cell_type": "code",
      "metadata": {
        "id": "YDPEBCKJo2Gx",
        "colab_type": "code",
        "outputId": "040e7736-b87a-4f04-c5ed-17e80f7d37e3",
        "colab": {
          "base_uri": "https://localhost:8080/",
          "height": 68
        }
      },
      "source": [
        "print(\"Total number of samples: {}\".format(dataframe.shape[0]))\n",
        "print(\"Number of male: {}\".format(dataframe[dataframe.label == 1].shape[0]))\n",
        "print(\"Number of female: {}\".format(dataframe[dataframe.label == 0].shape[0]))"
      ],
      "execution_count": 19,
      "outputs": [
        {
          "output_type": "stream",
          "text": [
            "Total number of samples: 3168\n",
            "Number of male: 1584\n",
            "Number of female: 1584\n"
          ],
          "name": "stdout"
        }
      ]
    },
    {
      "cell_type": "markdown",
      "metadata": {
        "id": "xS1RQffBprt4",
        "colab_type": "text"
      },
      "source": [
        "Split Data"
      ]
    },
    {
      "cell_type": "code",
      "metadata": {
        "id": "0uYx38qRpkMw",
        "colab_type": "code",
        "outputId": "07ed93db-7c98-4d45-eb2e-ef0ec64e1040",
        "colab": {
          "base_uri": "https://localhost:8080/",
          "height": 272
        }
      },
      "source": [
        "train, test = train_test_split(dataframe, test_size=0.2)\n",
        "train, val = train_test_split(train, test_size=0.2)\n",
        "print(len(train), 'train examples')\n",
        "print(len(val), 'validation examples')\n",
        "print(len(test), 'test examples')\n",
        "print (train.shape)\n",
        "train.head()"
      ],
      "execution_count": 20,
      "outputs": [
        {
          "output_type": "stream",
          "text": [
            "2027 train examples\n",
            "507 validation examples\n",
            "634 test examples\n",
            "(2027, 21)\n"
          ],
          "name": "stdout"
        },
        {
          "output_type": "execute_result",
          "data": {
            "text/html": [
              "<div>\n",
              "<style scoped>\n",
              "    .dataframe tbody tr th:only-of-type {\n",
              "        vertical-align: middle;\n",
              "    }\n",
              "\n",
              "    .dataframe tbody tr th {\n",
              "        vertical-align: top;\n",
              "    }\n",
              "\n",
              "    .dataframe thead th {\n",
              "        text-align: right;\n",
              "    }\n",
              "</style>\n",
              "<table border=\"1\" class=\"dataframe\">\n",
              "  <thead>\n",
              "    <tr style=\"text-align: right;\">\n",
              "      <th></th>\n",
              "      <th>meanfreq</th>\n",
              "      <th>sd</th>\n",
              "      <th>median</th>\n",
              "      <th>Q25</th>\n",
              "      <th>Q75</th>\n",
              "      <th>IQR</th>\n",
              "      <th>skew</th>\n",
              "      <th>kurt</th>\n",
              "      <th>sp.ent</th>\n",
              "      <th>sfm</th>\n",
              "      <th>mode</th>\n",
              "      <th>centroid</th>\n",
              "      <th>meanfun</th>\n",
              "      <th>minfun</th>\n",
              "      <th>maxfun</th>\n",
              "      <th>meandom</th>\n",
              "      <th>mindom</th>\n",
              "      <th>maxdom</th>\n",
              "      <th>dfrange</th>\n",
              "      <th>modindx</th>\n",
              "      <th>label</th>\n",
              "    </tr>\n",
              "  </thead>\n",
              "  <tbody>\n",
              "    <tr>\n",
              "      <th>2261</th>\n",
              "      <td>0.139254</td>\n",
              "      <td>0.083980</td>\n",
              "      <td>0.151920</td>\n",
              "      <td>0.056905</td>\n",
              "      <td>0.212480</td>\n",
              "      <td>0.155575</td>\n",
              "      <td>1.546572</td>\n",
              "      <td>5.868484</td>\n",
              "      <td>0.975814</td>\n",
              "      <td>0.822671</td>\n",
              "      <td>0.209173</td>\n",
              "      <td>0.139254</td>\n",
              "      <td>0.193576</td>\n",
              "      <td>0.034483</td>\n",
              "      <td>0.262295</td>\n",
              "      <td>0.515625</td>\n",
              "      <td>0.007812</td>\n",
              "      <td>3.921875</td>\n",
              "      <td>3.914062</td>\n",
              "      <td>0.142429</td>\n",
              "      <td>0</td>\n",
              "    </tr>\n",
              "    <tr>\n",
              "      <th>1713</th>\n",
              "      <td>0.235349</td>\n",
              "      <td>0.061951</td>\n",
              "      <td>0.255031</td>\n",
              "      <td>0.240735</td>\n",
              "      <td>0.266086</td>\n",
              "      <td>0.025351</td>\n",
              "      <td>2.815614</td>\n",
              "      <td>10.445064</td>\n",
              "      <td>0.832678</td>\n",
              "      <td>0.247794</td>\n",
              "      <td>0.260749</td>\n",
              "      <td>0.235349</td>\n",
              "      <td>0.209523</td>\n",
              "      <td>0.017204</td>\n",
              "      <td>0.275862</td>\n",
              "      <td>0.580181</td>\n",
              "      <td>0.015625</td>\n",
              "      <td>5.500000</td>\n",
              "      <td>5.484375</td>\n",
              "      <td>0.133191</td>\n",
              "      <td>0</td>\n",
              "    </tr>\n",
              "    <tr>\n",
              "      <th>1943</th>\n",
              "      <td>0.199387</td>\n",
              "      <td>0.035440</td>\n",
              "      <td>0.196046</td>\n",
              "      <td>0.180719</td>\n",
              "      <td>0.226471</td>\n",
              "      <td>0.045752</td>\n",
              "      <td>2.342196</td>\n",
              "      <td>9.294968</td>\n",
              "      <td>0.860738</td>\n",
              "      <td>0.210884</td>\n",
              "      <td>0.184150</td>\n",
              "      <td>0.199387</td>\n",
              "      <td>0.159956</td>\n",
              "      <td>0.027119</td>\n",
              "      <td>0.271186</td>\n",
              "      <td>0.898438</td>\n",
              "      <td>0.007812</td>\n",
              "      <td>5.976562</td>\n",
              "      <td>5.968750</td>\n",
              "      <td>0.189915</td>\n",
              "      <td>0</td>\n",
              "    </tr>\n",
              "    <tr>\n",
              "      <th>1105</th>\n",
              "      <td>0.189809</td>\n",
              "      <td>0.057016</td>\n",
              "      <td>0.202868</td>\n",
              "      <td>0.136830</td>\n",
              "      <td>0.241434</td>\n",
              "      <td>0.104604</td>\n",
              "      <td>0.795922</td>\n",
              "      <td>2.627216</td>\n",
              "      <td>0.917883</td>\n",
              "      <td>0.353845</td>\n",
              "      <td>0.123623</td>\n",
              "      <td>0.189809</td>\n",
              "      <td>0.143059</td>\n",
              "      <td>0.048387</td>\n",
              "      <td>0.277457</td>\n",
              "      <td>1.173018</td>\n",
              "      <td>0.023438</td>\n",
              "      <td>5.273438</td>\n",
              "      <td>5.250000</td>\n",
              "      <td>0.199836</td>\n",
              "      <td>1</td>\n",
              "    </tr>\n",
              "    <tr>\n",
              "      <th>1654</th>\n",
              "      <td>0.144419</td>\n",
              "      <td>0.086971</td>\n",
              "      <td>0.156016</td>\n",
              "      <td>0.061026</td>\n",
              "      <td>0.222840</td>\n",
              "      <td>0.161815</td>\n",
              "      <td>0.608371</td>\n",
              "      <td>2.844063</td>\n",
              "      <td>0.976355</td>\n",
              "      <td>0.818056</td>\n",
              "      <td>0.195503</td>\n",
              "      <td>0.144419</td>\n",
              "      <td>0.178420</td>\n",
              "      <td>0.016667</td>\n",
              "      <td>0.275862</td>\n",
              "      <td>0.509301</td>\n",
              "      <td>0.007812</td>\n",
              "      <td>3.898438</td>\n",
              "      <td>3.890625</td>\n",
              "      <td>0.151765</td>\n",
              "      <td>0</td>\n",
              "    </tr>\n",
              "  </tbody>\n",
              "</table>\n",
              "</div>"
            ],
            "text/plain": [
              "      meanfreq        sd    median  ...   dfrange   modindx  label\n",
              "2261  0.139254  0.083980  0.151920  ...  3.914062  0.142429      0\n",
              "1713  0.235349  0.061951  0.255031  ...  5.484375  0.133191      0\n",
              "1943  0.199387  0.035440  0.196046  ...  5.968750  0.189915      0\n",
              "1105  0.189809  0.057016  0.202868  ...  5.250000  0.199836      1\n",
              "1654  0.144419  0.086971  0.156016  ...  3.890625  0.151765      0\n",
              "\n",
              "[5 rows x 21 columns]"
            ]
          },
          "metadata": {
            "tags": []
          },
          "execution_count": 20
        }
      ]
    },
    {
      "cell_type": "markdown",
      "metadata": {
        "id": "uHYtPfUlp6kf",
        "colab_type": "text"
      },
      "source": [
        "**Create an input pipeline using tf.data**\n",
        "This will enable us to use feature columns as a bridge to map from the columns in the Pandas dataframe to features \n",
        "used to train the model. If we were working with a very large CSV file (so large that it does not fit into memory), we would use tf.data to read it from disk directly. That is not covered in this tutorial."
      ]
    },
    {
      "cell_type": "code",
      "metadata": {
        "id": "QL97G_M2us-g",
        "colab_type": "code",
        "colab": {}
      },
      "source": [
        "# A utility method to create a tf.data dataset from a Pandas Dataframe\n",
        "def df_to_dataset(dataframe, shuffle=True, batch_size=32):\n",
        "  dataframe = dataframe.copy()\n",
        "  labels = dataframe.pop('label')\n",
        "  ds = tf.data.Dataset.from_tensor_slices((dict(dataframe), labels))\n",
        "  if shuffle:\n",
        "    ds = ds.shuffle(buffer_size=len(dataframe))\n",
        "  ds = ds.batch(batch_size)\n",
        "  return ds\n",
        "\n",
        "batch_size = 5 # A small batch sized is used for demonstration purposes\n",
        "train_ds = df_to_dataset(train, batch_size=batch_size)\n",
        "val_ds = df_to_dataset(val, shuffle=False, batch_size=batch_size)\n",
        "test_ds = df_to_dataset(test, shuffle=False, batch_size=batch_size)"
      ],
      "execution_count": 0,
      "outputs": []
    },
    {
      "cell_type": "code",
      "metadata": {
        "id": "lzF_uWtNvlBv",
        "colab_type": "code",
        "outputId": "94e833db-9899-411c-8a5f-9b6663e67f73",
        "colab": {
          "base_uri": "https://localhost:8080/",
          "height": 68
        }
      },
      "source": [
        "# Test input pipeline\n",
        "for feature_batch, label_batch in train_ds.take(1):\n",
        "  print('Every feature:', list(feature_batch.keys()))\n",
        "  print('A batch of ages:', feature_batch['median'])\n",
        "  print('A batch of targets:', label_batch )"
      ],
      "execution_count": 22,
      "outputs": [
        {
          "output_type": "stream",
          "text": [
            "Every feature: ['meanfreq', 'sd', 'median', 'Q25', 'Q75', 'IQR', 'skew', 'kurt', 'sp.ent', 'sfm', 'mode', 'centroid', 'meanfun', 'minfun', 'maxfun', 'meandom', 'mindom', 'maxdom', 'dfrange', 'modindx']\n",
            "A batch of ages: tf.Tensor([0.13332539 0.23102167 0.18489655 0.18410735 0.21693842], shape=(5,), dtype=float64)\n",
            "A batch of targets: tf.Tensor([1 0 1 0 0], shape=(5,), dtype=int32)\n"
          ],
          "name": "stdout"
        }
      ]
    },
    {
      "cell_type": "markdown",
      "metadata": {
        "id": "WbZFAb7X3LLE",
        "colab_type": "text"
      },
      "source": [
        "**Choose which columns to use**"
      ]
    },
    {
      "cell_type": "code",
      "metadata": {
        "id": "-NRcwdv43QVE",
        "colab_type": "code",
        "colab": {}
      },
      "source": [
        "feature_columns = []\n",
        "\n",
        "# numeric cols\n",
        "for header in list(feature_batch.keys()):\n",
        "  feature_columns.append(feature_column.numeric_column(header))\n",
        "\n",
        "# bucketized cols\n",
        "#age_buckets = feature_column.bucketized_column(age, boundaries=[18, 25, 30, 35, 40, 45, 50, 55, 60, 65])\n",
        "#feature_columns.append(age_buckets)\n",
        "\n",
        "# indicator cols\n",
        "#thal = feature_column.categorical_column_with_vocabulary_list(\n",
        "#      'thal', ['fixed', 'normal', 'reversible'])\n",
        "#thal_one_hot = feature_column.indicator_column(thal)\n",
        "#feature_columns.append(thal_one_hot)\n",
        "\n",
        "# embedding cols\n",
        "#thal_embedding = feature_column.embedding_column(thal, dimension=8)\n",
        "#feature_columns.append(thal_embedding)\n",
        "\n",
        "# crossed cols\n",
        "#crossed_feature = feature_column.crossed_column([age_buckets, thal], hash_bucket_size=1000)\n",
        "#crossed_feature = feature_column.indicator_column(crossed_feature)\n",
        "#feature_columns.append(crossed_feature)"
      ],
      "execution_count": 0,
      "outputs": []
    },
    {
      "cell_type": "markdown",
      "metadata": {
        "id": "3PjOlTfX34Gk",
        "colab_type": "text"
      },
      "source": [
        "**Create feature layer**"
      ]
    },
    {
      "cell_type": "code",
      "metadata": {
        "id": "fLeTso8w39lC",
        "colab_type": "code",
        "colab": {}
      },
      "source": [
        "feature_layer = tf.keras.layers.DenseFeatures(feature_columns)\n",
        "#Earlier, we used a small batch size to demonstrate how feature columns worked. We create a new input pipeline with a larger batch size.\n",
        "batch_size = 32\n",
        "train_ds = df_to_dataset(train, batch_size=batch_size)\n",
        "val_ds = df_to_dataset(val, shuffle=False, batch_size=batch_size)\n",
        "test_ds = df_to_dataset(test, shuffle=False, batch_size=batch_size)"
      ],
      "execution_count": 0,
      "outputs": []
    },
    {
      "cell_type": "markdown",
      "metadata": {
        "id": "HYxg7xfy4Let",
        "colab_type": "text"
      },
      "source": [
        "**Create, compile, and train the model**"
      ]
    },
    {
      "cell_type": "code",
      "metadata": {
        "id": "XJbAiVJBpyJF",
        "colab_type": "code",
        "outputId": "4ddd7431-1990-474d-f9fc-a579ab02780b",
        "colab": {
          "base_uri": "https://localhost:8080/",
          "height": 2023
        }
      },
      "source": [
        "class myCallback(tf.keras.callbacks.Callback):\n",
        "  def on_epoch_end(self, epoch, logs={}):\n",
        "    if(logs.get('acc')>0.95):\n",
        "      print (logs.get('acc'))\n",
        "      print(\"\\nReached 95% accuracy so cancelling training!\")\n",
        "      self.model.stop_training = True\n",
        "\n",
        "callbacks = myCallback()   \n",
        "\n",
        "model = tf.keras.Sequential([\n",
        "  feature_layer,\n",
        "  #tf.keras.layers.Conv1D(5,input_shape=(20,1), kernel_size=12, padding='same', activation='relu'),\n",
        "  #tf.keras.layers.MaxPooling2D(2, 2),\n",
        "  tf.keras.layers.Flatten(),\n",
        "  tf.keras.layers.Dense(128, activation='relu'),\n",
        "  tf.keras.layers.Dense(128, activation='relu'),\n",
        "  tf.keras.layers.Dense(1, activation='sigmoid')\n",
        "])\n",
        "\n",
        "\n",
        "\n",
        "model.compile(optimizer='adam',\n",
        "              loss='binary_crossentropy',\n",
        "              metrics=['acc'])\n",
        "\n",
        "model.fit(train_ds,\n",
        "          validation_data=val_ds,\n",
        "          epochs=50,\n",
        "          verbose = 1,\n",
        "          callbacks=[callbacks])\n",
        "\n",
        "#model.summary()"
      ],
      "execution_count": 27,
      "outputs": [
        {
          "output_type": "stream",
          "text": [
            "Epoch 1/50\n",
            "64/64 [==============================] - 2s 25ms/step - loss: 0.7824 - acc: 0.5451 - val_loss: 0.7050 - val_acc: 0.4951\n",
            "Epoch 2/50\n",
            "64/64 [==============================] - 1s 21ms/step - loss: 0.7765 - acc: 0.6273 - val_loss: 0.6580 - val_acc: 0.6568\n",
            "Epoch 3/50\n",
            "64/64 [==============================] - 1s 21ms/step - loss: 0.6899 - acc: 0.6515 - val_loss: 0.7041 - val_acc: 0.6331\n",
            "Epoch 4/50\n",
            "64/64 [==============================] - 1s 21ms/step - loss: 0.6426 - acc: 0.6559 - val_loss: 0.6462 - val_acc: 0.6844\n",
            "Epoch 5/50\n",
            "64/64 [==============================] - 1s 21ms/step - loss: 0.6141 - acc: 0.7045 - val_loss: 0.6091 - val_acc: 0.7160\n",
            "Epoch 6/50\n",
            "64/64 [==============================] - 1s 21ms/step - loss: 0.6210 - acc: 0.7347 - val_loss: 0.5655 - val_acc: 0.7535\n",
            "Epoch 7/50\n",
            "64/64 [==============================] - 1s 21ms/step - loss: 0.6366 - acc: 0.7554 - val_loss: 1.1801 - val_acc: 0.6864\n",
            "Epoch 8/50\n",
            "64/64 [==============================] - 1s 21ms/step - loss: 0.8820 - acc: 0.7155 - val_loss: 0.6405 - val_acc: 0.7495\n",
            "Epoch 9/50\n",
            "64/64 [==============================] - 1s 21ms/step - loss: 0.5832 - acc: 0.7757 - val_loss: 0.6462 - val_acc: 0.7673\n",
            "Epoch 10/50\n",
            "64/64 [==============================] - 1s 21ms/step - loss: 0.5772 - acc: 0.7959 - val_loss: 0.5007 - val_acc: 0.7850\n",
            "Epoch 11/50\n",
            "64/64 [==============================] - 1s 21ms/step - loss: 0.5843 - acc: 0.7921 - val_loss: 1.2083 - val_acc: 0.7120\n",
            "Epoch 12/50\n",
            "64/64 [==============================] - 1s 21ms/step - loss: 0.8804 - acc: 0.7446 - val_loss: 0.5763 - val_acc: 0.7949\n",
            "Epoch 13/50\n",
            "64/64 [==============================] - 1s 21ms/step - loss: 0.5438 - acc: 0.7885 - val_loss: 0.4450 - val_acc: 0.8166\n",
            "Epoch 14/50\n",
            "64/64 [==============================] - 1s 21ms/step - loss: 0.5589 - acc: 0.8348 - val_loss: 1.1960 - val_acc: 0.7120\n",
            "Epoch 15/50\n",
            "64/64 [==============================] - 1s 21ms/step - loss: 0.8398 - acc: 0.7605 - val_loss: 0.7784 - val_acc: 0.7732\n",
            "Epoch 16/50\n",
            "64/64 [==============================] - 1s 21ms/step - loss: 0.5637 - acc: 0.7987 - val_loss: 0.4472 - val_acc: 0.8679\n",
            "Epoch 17/50\n",
            "64/64 [==============================] - 1s 21ms/step - loss: 0.5432 - acc: 0.8312 - val_loss: 0.5524 - val_acc: 0.8304\n",
            "Epoch 18/50\n",
            "64/64 [==============================] - 1s 21ms/step - loss: 0.4957 - acc: 0.8589 - val_loss: 0.9813 - val_acc: 0.7653\n",
            "Epoch 19/50\n",
            "64/64 [==============================] - 1s 22ms/step - loss: 0.7420 - acc: 0.8046 - val_loss: 0.4131 - val_acc: 0.8580\n",
            "Epoch 20/50\n",
            "64/64 [==============================] - 1s 22ms/step - loss: 0.5558 - acc: 0.8418 - val_loss: 1.0280 - val_acc: 0.7554\n",
            "Epoch 21/50\n",
            "64/64 [==============================] - 1s 21ms/step - loss: 0.8384 - acc: 0.7936 - val_loss: 0.7063 - val_acc: 0.7929\n",
            "Epoch 22/50\n",
            "64/64 [==============================] - 1s 21ms/step - loss: 0.5448 - acc: 0.8237 - val_loss: 0.3720 - val_acc: 0.8797\n",
            "Epoch 23/50\n",
            "64/64 [==============================] - 1s 21ms/step - loss: 0.4864 - acc: 0.8606 - val_loss: 0.4251 - val_acc: 0.8560\n",
            "Epoch 24/50\n",
            "64/64 [==============================] - 1s 21ms/step - loss: 0.4730 - acc: 0.8595 - val_loss: 1.0161 - val_acc: 0.7692\n",
            "Epoch 25/50\n",
            "64/64 [==============================] - 1s 21ms/step - loss: 0.8743 - acc: 0.7945 - val_loss: 0.6030 - val_acc: 0.7949\n",
            "Epoch 26/50\n",
            "64/64 [==============================] - 1s 21ms/step - loss: 0.4810 - acc: 0.8313 - val_loss: 0.3692 - val_acc: 0.8442\n",
            "Epoch 27/50\n",
            "64/64 [==============================] - 1s 21ms/step - loss: 0.4590 - acc: 0.8637 - val_loss: 1.0330 - val_acc: 0.7653\n",
            "Epoch 28/50\n",
            "64/64 [==============================] - 1s 21ms/step - loss: 0.8202 - acc: 0.8077 - val_loss: 0.5226 - val_acc: 0.8126\n",
            "Epoch 29/50\n",
            "64/64 [==============================] - 1s 21ms/step - loss: 0.4804 - acc: 0.8636 - val_loss: 1.0029 - val_acc: 0.7673\n",
            "Epoch 30/50\n",
            "64/64 [==============================] - 1s 21ms/step - loss: 0.8578 - acc: 0.8059 - val_loss: 0.6949 - val_acc: 0.8225\n",
            "Epoch 31/50\n",
            "64/64 [==============================] - 1s 21ms/step - loss: 0.4905 - acc: 0.8348 - val_loss: 0.3466 - val_acc: 0.9034\n",
            "Epoch 32/50\n",
            "64/64 [==============================] - 1s 21ms/step - loss: 0.4578 - acc: 0.8889 - val_loss: 1.0044 - val_acc: 0.7692\n",
            "Epoch 33/50\n",
            "64/64 [==============================] - 1s 22ms/step - loss: 0.8513 - acc: 0.8133 - val_loss: 0.7361 - val_acc: 0.8323\n",
            "Epoch 34/50\n",
            "64/64 [==============================] - 1s 21ms/step - loss: 0.4639 - acc: 0.8495 - val_loss: 0.3496 - val_acc: 0.8915\n",
            "Epoch 35/50\n",
            "64/64 [==============================] - 1s 21ms/step - loss: 0.4443 - acc: 0.8789 - val_loss: 0.3341 - val_acc: 0.8757\n",
            "Epoch 36/50\n",
            "64/64 [==============================] - 1s 21ms/step - loss: 0.4034 - acc: 0.8896 - val_loss: 0.3067 - val_acc: 0.9034\n",
            "Epoch 37/50\n",
            "64/64 [==============================] - 1s 21ms/step - loss: 0.3865 - acc: 0.8977 - val_loss: 0.3011 - val_acc: 0.9093\n",
            "Epoch 38/50\n",
            "64/64 [==============================] - 1s 21ms/step - loss: 0.3671 - acc: 0.9069 - val_loss: 0.3503 - val_acc: 0.9073\n",
            "Epoch 39/50\n",
            "64/64 [==============================] - 1s 21ms/step - loss: 0.4126 - acc: 0.9083 - val_loss: 0.9221 - val_acc: 0.8166\n",
            "Epoch 40/50\n",
            "64/64 [==============================] - 1s 21ms/step - loss: 0.7271 - acc: 0.8331 - val_loss: 0.3600 - val_acc: 0.8915\n",
            "Epoch 41/50\n",
            "64/64 [==============================] - 1s 21ms/step - loss: 0.3745 - acc: 0.8939 - val_loss: 0.7195 - val_acc: 0.8718\n",
            "Epoch 42/50\n",
            "64/64 [==============================] - 1s 21ms/step - loss: 0.5289 - acc: 0.8793 - val_loss: 0.2637 - val_acc: 0.8935\n",
            "Epoch 43/50\n",
            "64/64 [==============================] - 1s 21ms/step - loss: 0.3480 - acc: 0.9151 - val_loss: 0.7196 - val_acc: 0.8757\n",
            "Epoch 44/50\n",
            "64/64 [==============================] - 1s 21ms/step - loss: 0.4433 - acc: 0.8925 - val_loss: 0.2489 - val_acc: 0.9191\n",
            "Epoch 45/50\n",
            "64/64 [==============================] - 1s 21ms/step - loss: 0.3446 - acc: 0.9286 - val_loss: 0.8722 - val_acc: 0.8462\n",
            "Epoch 46/50\n",
            "64/64 [==============================] - 1s 21ms/step - loss: 0.7377 - acc: 0.8547 - val_loss: 0.4034 - val_acc: 0.8540\n",
            "Epoch 47/50\n",
            "64/64 [==============================] - 1s 21ms/step - loss: 0.4264 - acc: 0.8986 - val_loss: 0.9316 - val_acc: 0.8304\n",
            "Epoch 48/50\n",
            "64/64 [==============================] - 1s 22ms/step - loss: 0.8349 - acc: 0.8398 - val_loss: 0.7426 - val_acc: 0.8777\n",
            "Epoch 49/50\n",
            "64/64 [==============================] - 1s 21ms/step - loss: 0.5685 - acc: 0.8735 - val_loss: 0.4563 - val_acc: 0.9014\n",
            "Epoch 50/50\n",
            "64/64 [==============================] - 1s 21ms/step - loss: 0.3667 - acc: 0.8981 - val_loss: 0.8946 - val_acc: 0.8402\n",
            "Model: \"sequential_4\"\n",
            "_________________________________________________________________\n",
            "Layer (type)                 Output Shape              Param #   \n",
            "=================================================================\n",
            "dense_features_1 (DenseFeatu multiple                  0         \n",
            "_________________________________________________________________\n",
            "flatten_4 (Flatten)          multiple                  0         \n",
            "_________________________________________________________________\n",
            "dense_12 (Dense)             multiple                  2688      \n",
            "_________________________________________________________________\n",
            "dense_13 (Dense)             multiple                  16512     \n",
            "_________________________________________________________________\n",
            "dense_14 (Dense)             multiple                  129       \n",
            "=================================================================\n",
            "Total params: 19,329\n",
            "Trainable params: 19,329\n",
            "Non-trainable params: 0\n",
            "_________________________________________________________________\n"
          ],
          "name": "stdout"
        }
      ]
    },
    {
      "cell_type": "markdown",
      "metadata": {
        "id": "Wy4emRxVqDtj",
        "colab_type": "text"
      },
      "source": [
        "**Accuracy**"
      ]
    },
    {
      "cell_type": "code",
      "metadata": {
        "id": "H9T0TS5-qC8E",
        "colab_type": "code",
        "colab": {}
      },
      "source": [
        "loss, accuracy = model.evaluate(test_ds)\n",
        "print(\"Accuracy\", accuracy)"
      ],
      "execution_count": 0,
      "outputs": []
    },
    {
      "cell_type": "code",
      "metadata": {
        "id": "L7cB2UGHB-Re",
        "colab_type": "code",
        "colab": {}
      },
      "source": [
        ""
      ],
      "execution_count": 0,
      "outputs": []
    }
  ]
}