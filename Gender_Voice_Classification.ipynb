{
  "nbformat": 4,
  "nbformat_minor": 0,
  "metadata": {
    "colab": {
      "name": "Gender Voice Classification",
      "version": "0.3.2",
      "provenance": [],
      "collapsed_sections": [],
      "include_colab_link": true
    },
    "kernelspec": {
      "name": "python3",
      "display_name": "Python 3"
    }
  },
  "cells": [
    {
      "cell_type": "markdown",
      "metadata": {
        "id": "view-in-github",
        "colab_type": "text"
      },
      "source": [
        "<a href=\"https://colab.research.google.com/github/advait1987/tf_gendervoiceclassify/blob/master/Gender_Voice_Classification.ipynb\" target=\"_parent\"><img src=\"https://colab.research.google.com/assets/colab-badge.svg\" alt=\"Open In Colab\"/></a>"
      ]
    },
    {
      "cell_type": "code",
      "metadata": {
        "id": "KxKMWTdilGrb",
        "colab_type": "code",
        "colab": {
          "base_uri": "https://localhost:8080/",
          "height": 85
        },
        "outputId": "fd4dc81b-ac34-4721-83f7-c504a74e82b5"
      },
      "source": [
        "# This Python 3 environment comes with many helpful analytics libraries installed\n",
        "# It is defined by the kaggle/python docker image: https://github.com/kaggle/docker-python\n",
        "# For example, here's several helpful packages to load in \n",
        "\n",
        "import numpy as np # linear algebra\n",
        "import pandas as pd # data processing, CSV file I/O (e.g. pd.read_csv)\n",
        "!pip install -q tensorflow==2.0.0-alpha0\n",
        "import tensorflow as tf\n",
        "\n",
        "from tensorflow import feature_column\n",
        "from tensorflow.keras import layers\n",
        "from sklearn.model_selection import train_test_split"
      ],
      "execution_count": 2,
      "outputs": [
        {
          "output_type": "stream",
          "text": [
            "\u001b[K     |████████████████████████████████| 79.9MB 371kB/s \n",
            "\u001b[K     |████████████████████████████████| 61kB 19.8MB/s \n",
            "\u001b[K     |████████████████████████████████| 419kB 44.2MB/s \n",
            "\u001b[K     |████████████████████████████████| 3.0MB 32.4MB/s \n",
            "\u001b[?25h"
          ],
          "name": "stdout"
        }
      ]
    },
    {
      "cell_type": "code",
      "metadata": {
        "id": "O7sQSOR6mauE",
        "colab_type": "code",
        "outputId": "dbf18844-d729-413e-9e82-65eb0e245300",
        "colab": {
          "base_uri": "https://localhost:8080/",
          "height": 34
        }
      },
      "source": [
        "# Input data files are available in the \"../input/\" directory.\n",
        "# For example, running this (by clicking run or pressing Shift+Enter) will list the files in the input directory\n",
        "\n",
        "from subprocess import check_output\n",
        "print(check_output([\"ls\", \"../tmp\"]).decode(\"utf8\"))\n",
        "\n",
        "# Any results you write to the current directory are saved as output."
      ],
      "execution_count": 3,
      "outputs": [
        {
          "output_type": "stream",
          "text": [
            "\n"
          ],
          "name": "stdout"
        }
      ]
    },
    {
      "cell_type": "code",
      "metadata": {
        "id": "Gpy9Uu1Jmiq3",
        "colab_type": "code",
        "colab": {}
      },
      "source": [
        "url = 'https://github.com/advait1987/tf_gendervoiceclassify/raw/master/voice.csv'\n",
        "dataframe = pd.read_csv(url)"
      ],
      "execution_count": 0,
      "outputs": []
    },
    {
      "cell_type": "markdown",
      "metadata": {
        "id": "c3ma_znwpX3c",
        "colab_type": "text"
      },
      "source": [
        "## **Explore**"
      ]
    },
    {
      "cell_type": "code",
      "metadata": {
        "id": "Ys_vEtTHnKiO",
        "colab_type": "code",
        "outputId": "eeda22ea-7b1e-41a3-f489-23c0fa0134ea",
        "colab": {
          "base_uri": "https://localhost:8080/",
          "height": 111
        }
      },
      "source": [
        "dataframe.head(2)"
      ],
      "execution_count": 5,
      "outputs": [
        {
          "output_type": "execute_result",
          "data": {
            "text/html": [
              "<div>\n",
              "<style scoped>\n",
              "    .dataframe tbody tr th:only-of-type {\n",
              "        vertical-align: middle;\n",
              "    }\n",
              "\n",
              "    .dataframe tbody tr th {\n",
              "        vertical-align: top;\n",
              "    }\n",
              "\n",
              "    .dataframe thead th {\n",
              "        text-align: right;\n",
              "    }\n",
              "</style>\n",
              "<table border=\"1\" class=\"dataframe\">\n",
              "  <thead>\n",
              "    <tr style=\"text-align: right;\">\n",
              "      <th></th>\n",
              "      <th>meanfreq</th>\n",
              "      <th>sd</th>\n",
              "      <th>median</th>\n",
              "      <th>Q25</th>\n",
              "      <th>Q75</th>\n",
              "      <th>IQR</th>\n",
              "      <th>skew</th>\n",
              "      <th>kurt</th>\n",
              "      <th>sp.ent</th>\n",
              "      <th>sfm</th>\n",
              "      <th>mode</th>\n",
              "      <th>centroid</th>\n",
              "      <th>meanfun</th>\n",
              "      <th>minfun</th>\n",
              "      <th>maxfun</th>\n",
              "      <th>meandom</th>\n",
              "      <th>mindom</th>\n",
              "      <th>maxdom</th>\n",
              "      <th>dfrange</th>\n",
              "      <th>modindx</th>\n",
              "      <th>label</th>\n",
              "    </tr>\n",
              "  </thead>\n",
              "  <tbody>\n",
              "    <tr>\n",
              "      <th>0</th>\n",
              "      <td>0.059781</td>\n",
              "      <td>0.064241</td>\n",
              "      <td>0.032027</td>\n",
              "      <td>0.015071</td>\n",
              "      <td>0.090193</td>\n",
              "      <td>0.075122</td>\n",
              "      <td>12.863462</td>\n",
              "      <td>274.402906</td>\n",
              "      <td>0.893369</td>\n",
              "      <td>0.491918</td>\n",
              "      <td>0.0</td>\n",
              "      <td>0.059781</td>\n",
              "      <td>0.084279</td>\n",
              "      <td>0.015702</td>\n",
              "      <td>0.275862</td>\n",
              "      <td>0.007812</td>\n",
              "      <td>0.007812</td>\n",
              "      <td>0.007812</td>\n",
              "      <td>0.000000</td>\n",
              "      <td>0.000000</td>\n",
              "      <td>male</td>\n",
              "    </tr>\n",
              "    <tr>\n",
              "      <th>1</th>\n",
              "      <td>0.066009</td>\n",
              "      <td>0.067310</td>\n",
              "      <td>0.040229</td>\n",
              "      <td>0.019414</td>\n",
              "      <td>0.092666</td>\n",
              "      <td>0.073252</td>\n",
              "      <td>22.423285</td>\n",
              "      <td>634.613855</td>\n",
              "      <td>0.892193</td>\n",
              "      <td>0.513724</td>\n",
              "      <td>0.0</td>\n",
              "      <td>0.066009</td>\n",
              "      <td>0.107937</td>\n",
              "      <td>0.015826</td>\n",
              "      <td>0.250000</td>\n",
              "      <td>0.009014</td>\n",
              "      <td>0.007812</td>\n",
              "      <td>0.054688</td>\n",
              "      <td>0.046875</td>\n",
              "      <td>0.052632</td>\n",
              "      <td>male</td>\n",
              "    </tr>\n",
              "  </tbody>\n",
              "</table>\n",
              "</div>"
            ],
            "text/plain": [
              "   meanfreq        sd    median       Q25  ...    maxdom   dfrange   modindx  label\n",
              "0  0.059781  0.064241  0.032027  0.015071  ...  0.007812  0.000000  0.000000   male\n",
              "1  0.066009  0.067310  0.040229  0.019414  ...  0.054688  0.046875  0.052632   male\n",
              "\n",
              "[2 rows x 21 columns]"
            ]
          },
          "metadata": {
            "tags": []
          },
          "execution_count": 5
        }
      ]
    },
    {
      "cell_type": "code",
      "metadata": {
        "id": "EOMcdosNBfGW",
        "colab_type": "code",
        "colab": {
          "base_uri": "https://localhost:8080/",
          "height": 111
        },
        "outputId": "a8d1c58b-ec24-4280-d61d-467b9d33ed1d"
      },
      "source": [
        "from sklearn.preprocessing import LabelEncoder\n",
        "gender_encoder = LabelEncoder()\n",
        "dataframe['label'] = gender_encoder.fit_transform(dataframe['label'])\n",
        "dataframe.head(2)"
      ],
      "execution_count": 6,
      "outputs": [
        {
          "output_type": "execute_result",
          "data": {
            "text/html": [
              "<div>\n",
              "<style scoped>\n",
              "    .dataframe tbody tr th:only-of-type {\n",
              "        vertical-align: middle;\n",
              "    }\n",
              "\n",
              "    .dataframe tbody tr th {\n",
              "        vertical-align: top;\n",
              "    }\n",
              "\n",
              "    .dataframe thead th {\n",
              "        text-align: right;\n",
              "    }\n",
              "</style>\n",
              "<table border=\"1\" class=\"dataframe\">\n",
              "  <thead>\n",
              "    <tr style=\"text-align: right;\">\n",
              "      <th></th>\n",
              "      <th>meanfreq</th>\n",
              "      <th>sd</th>\n",
              "      <th>median</th>\n",
              "      <th>Q25</th>\n",
              "      <th>Q75</th>\n",
              "      <th>IQR</th>\n",
              "      <th>skew</th>\n",
              "      <th>kurt</th>\n",
              "      <th>sp.ent</th>\n",
              "      <th>sfm</th>\n",
              "      <th>mode</th>\n",
              "      <th>centroid</th>\n",
              "      <th>meanfun</th>\n",
              "      <th>minfun</th>\n",
              "      <th>maxfun</th>\n",
              "      <th>meandom</th>\n",
              "      <th>mindom</th>\n",
              "      <th>maxdom</th>\n",
              "      <th>dfrange</th>\n",
              "      <th>modindx</th>\n",
              "      <th>label</th>\n",
              "    </tr>\n",
              "  </thead>\n",
              "  <tbody>\n",
              "    <tr>\n",
              "      <th>0</th>\n",
              "      <td>0.059781</td>\n",
              "      <td>0.064241</td>\n",
              "      <td>0.032027</td>\n",
              "      <td>0.015071</td>\n",
              "      <td>0.090193</td>\n",
              "      <td>0.075122</td>\n",
              "      <td>12.863462</td>\n",
              "      <td>274.402906</td>\n",
              "      <td>0.893369</td>\n",
              "      <td>0.491918</td>\n",
              "      <td>0.0</td>\n",
              "      <td>0.059781</td>\n",
              "      <td>0.084279</td>\n",
              "      <td>0.015702</td>\n",
              "      <td>0.275862</td>\n",
              "      <td>0.007812</td>\n",
              "      <td>0.007812</td>\n",
              "      <td>0.007812</td>\n",
              "      <td>0.000000</td>\n",
              "      <td>0.000000</td>\n",
              "      <td>1</td>\n",
              "    </tr>\n",
              "    <tr>\n",
              "      <th>1</th>\n",
              "      <td>0.066009</td>\n",
              "      <td>0.067310</td>\n",
              "      <td>0.040229</td>\n",
              "      <td>0.019414</td>\n",
              "      <td>0.092666</td>\n",
              "      <td>0.073252</td>\n",
              "      <td>22.423285</td>\n",
              "      <td>634.613855</td>\n",
              "      <td>0.892193</td>\n",
              "      <td>0.513724</td>\n",
              "      <td>0.0</td>\n",
              "      <td>0.066009</td>\n",
              "      <td>0.107937</td>\n",
              "      <td>0.015826</td>\n",
              "      <td>0.250000</td>\n",
              "      <td>0.009014</td>\n",
              "      <td>0.007812</td>\n",
              "      <td>0.054688</td>\n",
              "      <td>0.046875</td>\n",
              "      <td>0.052632</td>\n",
              "      <td>1</td>\n",
              "    </tr>\n",
              "  </tbody>\n",
              "</table>\n",
              "</div>"
            ],
            "text/plain": [
              "   meanfreq        sd    median       Q25  ...    maxdom   dfrange   modindx  label\n",
              "0  0.059781  0.064241  0.032027  0.015071  ...  0.007812  0.000000  0.000000      1\n",
              "1  0.066009  0.067310  0.040229  0.019414  ...  0.054688  0.046875  0.052632      1\n",
              "\n",
              "[2 rows x 21 columns]"
            ]
          },
          "metadata": {
            "tags": []
          },
          "execution_count": 6
        }
      ]
    },
    {
      "cell_type": "code",
      "metadata": {
        "id": "YDPEBCKJo2Gx",
        "colab_type": "code",
        "outputId": "cba84d73-93a5-4e37-fcf8-119b481f58d1",
        "colab": {
          "base_uri": "https://localhost:8080/",
          "height": 68
        }
      },
      "source": [
        "print(\"Total number of samples: {}\".format(dataframe.shape[0]))\n",
        "print(\"Number of male: {}\".format(dataframe[dataframe.label == 1].shape[0]))\n",
        "print(\"Number of female: {}\".format(dataframe[dataframe.label == 0].shape[0]))"
      ],
      "execution_count": 7,
      "outputs": [
        {
          "output_type": "stream",
          "text": [
            "Total number of samples: 3168\n",
            "Number of male: 1584\n",
            "Number of female: 1584\n"
          ],
          "name": "stdout"
        }
      ]
    },
    {
      "cell_type": "markdown",
      "metadata": {
        "id": "xS1RQffBprt4",
        "colab_type": "text"
      },
      "source": [
        "Split Data"
      ]
    },
    {
      "cell_type": "code",
      "metadata": {
        "id": "0uYx38qRpkMw",
        "colab_type": "code",
        "outputId": "cead7199-80a0-4291-b64c-3d9a073dd70a",
        "colab": {
          "base_uri": "https://localhost:8080/",
          "height": 272
        }
      },
      "source": [
        "train, test = train_test_split(dataframe, test_size=0.2)\n",
        "train, val = train_test_split(train, test_size=0.2)\n",
        "print(len(train), 'train examples')\n",
        "print(len(val), 'validation examples')\n",
        "print(len(test), 'test examples')\n",
        "print (train.shape)\n",
        "train.head()"
      ],
      "execution_count": 8,
      "outputs": [
        {
          "output_type": "stream",
          "text": [
            "2027 train examples\n",
            "507 validation examples\n",
            "634 test examples\n",
            "(2027, 21)\n"
          ],
          "name": "stdout"
        },
        {
          "output_type": "execute_result",
          "data": {
            "text/html": [
              "<div>\n",
              "<style scoped>\n",
              "    .dataframe tbody tr th:only-of-type {\n",
              "        vertical-align: middle;\n",
              "    }\n",
              "\n",
              "    .dataframe tbody tr th {\n",
              "        vertical-align: top;\n",
              "    }\n",
              "\n",
              "    .dataframe thead th {\n",
              "        text-align: right;\n",
              "    }\n",
              "</style>\n",
              "<table border=\"1\" class=\"dataframe\">\n",
              "  <thead>\n",
              "    <tr style=\"text-align: right;\">\n",
              "      <th></th>\n",
              "      <th>meanfreq</th>\n",
              "      <th>sd</th>\n",
              "      <th>median</th>\n",
              "      <th>Q25</th>\n",
              "      <th>Q75</th>\n",
              "      <th>IQR</th>\n",
              "      <th>skew</th>\n",
              "      <th>kurt</th>\n",
              "      <th>sp.ent</th>\n",
              "      <th>sfm</th>\n",
              "      <th>mode</th>\n",
              "      <th>centroid</th>\n",
              "      <th>meanfun</th>\n",
              "      <th>minfun</th>\n",
              "      <th>maxfun</th>\n",
              "      <th>meandom</th>\n",
              "      <th>mindom</th>\n",
              "      <th>maxdom</th>\n",
              "      <th>dfrange</th>\n",
              "      <th>modindx</th>\n",
              "      <th>label</th>\n",
              "    </tr>\n",
              "  </thead>\n",
              "  <tbody>\n",
              "    <tr>\n",
              "      <th>347</th>\n",
              "      <td>0.158272</td>\n",
              "      <td>0.060818</td>\n",
              "      <td>0.147618</td>\n",
              "      <td>0.107845</td>\n",
              "      <td>0.212523</td>\n",
              "      <td>0.104678</td>\n",
              "      <td>3.027477</td>\n",
              "      <td>13.167034</td>\n",
              "      <td>0.904559</td>\n",
              "      <td>0.482941</td>\n",
              "      <td>0.107251</td>\n",
              "      <td>0.158272</td>\n",
              "      <td>0.112817</td>\n",
              "      <td>0.039062</td>\n",
              "      <td>0.277778</td>\n",
              "      <td>1.016323</td>\n",
              "      <td>0.112305</td>\n",
              "      <td>3.999023</td>\n",
              "      <td>3.886719</td>\n",
              "      <td>0.352793</td>\n",
              "      <td>1</td>\n",
              "    </tr>\n",
              "    <tr>\n",
              "      <th>560</th>\n",
              "      <td>0.143504</td>\n",
              "      <td>0.073334</td>\n",
              "      <td>0.150426</td>\n",
              "      <td>0.086383</td>\n",
              "      <td>0.197713</td>\n",
              "      <td>0.111330</td>\n",
              "      <td>3.586009</td>\n",
              "      <td>28.346615</td>\n",
              "      <td>0.961517</td>\n",
              "      <td>0.734525</td>\n",
              "      <td>0.059947</td>\n",
              "      <td>0.143504</td>\n",
              "      <td>0.090472</td>\n",
              "      <td>0.017448</td>\n",
              "      <td>0.235294</td>\n",
              "      <td>0.462015</td>\n",
              "      <td>0.007812</td>\n",
              "      <td>2.335938</td>\n",
              "      <td>2.328125</td>\n",
              "      <td>0.203020</td>\n",
              "      <td>1</td>\n",
              "    </tr>\n",
              "    <tr>\n",
              "      <th>3088</th>\n",
              "      <td>0.162336</td>\n",
              "      <td>0.055594</td>\n",
              "      <td>0.168105</td>\n",
              "      <td>0.159551</td>\n",
              "      <td>0.187307</td>\n",
              "      <td>0.027756</td>\n",
              "      <td>7.151586</td>\n",
              "      <td>68.542788</td>\n",
              "      <td>0.875032</td>\n",
              "      <td>0.450097</td>\n",
              "      <td>0.165661</td>\n",
              "      <td>0.162336</td>\n",
              "      <td>0.149047</td>\n",
              "      <td>0.018622</td>\n",
              "      <td>0.208333</td>\n",
              "      <td>0.177590</td>\n",
              "      <td>0.073242</td>\n",
              "      <td>0.346680</td>\n",
              "      <td>0.273438</td>\n",
              "      <td>0.101648</td>\n",
              "      <td>0</td>\n",
              "    </tr>\n",
              "    <tr>\n",
              "      <th>2728</th>\n",
              "      <td>0.202353</td>\n",
              "      <td>0.038893</td>\n",
              "      <td>0.196491</td>\n",
              "      <td>0.182246</td>\n",
              "      <td>0.226947</td>\n",
              "      <td>0.044702</td>\n",
              "      <td>2.323108</td>\n",
              "      <td>9.261747</td>\n",
              "      <td>0.872001</td>\n",
              "      <td>0.249095</td>\n",
              "      <td>0.184702</td>\n",
              "      <td>0.202353</td>\n",
              "      <td>0.158921</td>\n",
              "      <td>0.048830</td>\n",
              "      <td>0.279070</td>\n",
              "      <td>1.812500</td>\n",
              "      <td>0.023438</td>\n",
              "      <td>10.898438</td>\n",
              "      <td>10.875000</td>\n",
              "      <td>0.166083</td>\n",
              "      <td>0</td>\n",
              "    </tr>\n",
              "    <tr>\n",
              "      <th>125</th>\n",
              "      <td>0.167705</td>\n",
              "      <td>0.070774</td>\n",
              "      <td>0.179442</td>\n",
              "      <td>0.097629</td>\n",
              "      <td>0.231771</td>\n",
              "      <td>0.134142</td>\n",
              "      <td>17.948488</td>\n",
              "      <td>416.183638</td>\n",
              "      <td>0.921257</td>\n",
              "      <td>0.519320</td>\n",
              "      <td>0.059944</td>\n",
              "      <td>0.167705</td>\n",
              "      <td>0.081219</td>\n",
              "      <td>0.015889</td>\n",
              "      <td>0.271186</td>\n",
              "      <td>0.073828</td>\n",
              "      <td>0.070312</td>\n",
              "      <td>0.210938</td>\n",
              "      <td>0.140625</td>\n",
              "      <td>0.051282</td>\n",
              "      <td>1</td>\n",
              "    </tr>\n",
              "  </tbody>\n",
              "</table>\n",
              "</div>"
            ],
            "text/plain": [
              "      meanfreq        sd    median  ...    dfrange   modindx  label\n",
              "347   0.158272  0.060818  0.147618  ...   3.886719  0.352793      1\n",
              "560   0.143504  0.073334  0.150426  ...   2.328125  0.203020      1\n",
              "3088  0.162336  0.055594  0.168105  ...   0.273438  0.101648      0\n",
              "2728  0.202353  0.038893  0.196491  ...  10.875000  0.166083      0\n",
              "125   0.167705  0.070774  0.179442  ...   0.140625  0.051282      1\n",
              "\n",
              "[5 rows x 21 columns]"
            ]
          },
          "metadata": {
            "tags": []
          },
          "execution_count": 8
        }
      ]
    },
    {
      "cell_type": "markdown",
      "metadata": {
        "id": "uHYtPfUlp6kf",
        "colab_type": "text"
      },
      "source": [
        "**Create an input pipeline using tf.data**\n",
        "This will enable us to use feature columns as a bridge to map from the columns in the Pandas dataframe to features \n",
        "used to train the model. If we were working with a very large CSV file (so large that it does not fit into memory), we would use tf.data to read it from disk directly. That is not covered in this tutorial."
      ]
    },
    {
      "cell_type": "code",
      "metadata": {
        "id": "QL97G_M2us-g",
        "colab_type": "code",
        "colab": {}
      },
      "source": [
        "# A utility method to create a tf.data dataset from a Pandas Dataframe\n",
        "def df_to_dataset(dataframe, shuffle=True, batch_size=32):\n",
        "  dataframe = dataframe.copy()\n",
        "  labels = dataframe.pop('label')\n",
        "  ds = tf.data.Dataset.from_tensor_slices((dict(dataframe), labels))\n",
        "  if shuffle:\n",
        "    ds = ds.shuffle(buffer_size=len(dataframe))\n",
        "  ds = ds.batch(batch_size)\n",
        "  return ds\n",
        "\n",
        "batch_size = 5 # A small batch sized is used for demonstration purposes\n",
        "train_ds = df_to_dataset(train, batch_size=batch_size)\n",
        "val_ds = df_to_dataset(val, shuffle=False, batch_size=batch_size)\n",
        "test_ds = df_to_dataset(test, shuffle=False, batch_size=batch_size)"
      ],
      "execution_count": 0,
      "outputs": []
    },
    {
      "cell_type": "code",
      "metadata": {
        "id": "lzF_uWtNvlBv",
        "colab_type": "code",
        "outputId": "efcd7013-ba33-4096-ef80-5091938ffbb7",
        "colab": {
          "base_uri": "https://localhost:8080/",
          "height": 68
        }
      },
      "source": [
        "# Test input pipeline\n",
        "for feature_batch, label_batch in train_ds.take(1):\n",
        "  print('Every feature:', list(feature_batch.keys()))\n",
        "  print('A batch of ages:', feature_batch['median'])\n",
        "  print('A batch of targets:', label_batch )"
      ],
      "execution_count": 10,
      "outputs": [
        {
          "output_type": "stream",
          "text": [
            "Every feature: ['meanfreq', 'sd', 'median', 'Q25', 'Q75', 'IQR', 'skew', 'kurt', 'sp.ent', 'sfm', 'mode', 'centroid', 'meanfun', 'minfun', 'maxfun', 'meandom', 'mindom', 'maxdom', 'dfrange', 'modindx']\n",
            "A batch of ages: tf.Tensor([0.19550505 0.23341021 0.17976383 0.17980392 0.20691299], shape=(5,), dtype=float64)\n",
            "A batch of targets: tf.Tensor([0 0 1 0 0], shape=(5,), dtype=int32)\n"
          ],
          "name": "stdout"
        }
      ]
    },
    {
      "cell_type": "markdown",
      "metadata": {
        "id": "WbZFAb7X3LLE",
        "colab_type": "text"
      },
      "source": [
        "**Choose which columns to use**"
      ]
    },
    {
      "cell_type": "code",
      "metadata": {
        "id": "-NRcwdv43QVE",
        "colab_type": "code",
        "colab": {}
      },
      "source": [
        "feature_columns = []\n",
        "\n",
        "# numeric cols\n",
        "for header in list(feature_batch.keys()):\n",
        "  feature_columns.append(feature_column.numeric_column(header))\n",
        "\n",
        "# bucketized cols\n",
        "#age_buckets = feature_column.bucketized_column(age, boundaries=[18, 25, 30, 35, 40, 45, 50, 55, 60, 65])\n",
        "#feature_columns.append(age_buckets)\n",
        "\n",
        "# indicator cols\n",
        "#thal = feature_column.categorical_column_with_vocabulary_list(\n",
        "#      'thal', ['fixed', 'normal', 'reversible'])\n",
        "#thal_one_hot = feature_column.indicator_column(thal)\n",
        "#feature_columns.append(thal_one_hot)\n",
        "\n",
        "# embedding cols\n",
        "#thal_embedding = feature_column.embedding_column(thal, dimension=8)\n",
        "#feature_columns.append(thal_embedding)\n",
        "\n",
        "# crossed cols\n",
        "#crossed_feature = feature_column.crossed_column([age_buckets, thal], hash_bucket_size=1000)\n",
        "#crossed_feature = feature_column.indicator_column(crossed_feature)\n",
        "#feature_columns.append(crossed_feature)"
      ],
      "execution_count": 0,
      "outputs": []
    },
    {
      "cell_type": "markdown",
      "metadata": {
        "id": "3PjOlTfX34Gk",
        "colab_type": "text"
      },
      "source": [
        "**Create feature layer**"
      ]
    },
    {
      "cell_type": "code",
      "metadata": {
        "id": "fLeTso8w39lC",
        "colab_type": "code",
        "colab": {}
      },
      "source": [
        "feature_layer = tf.keras.layers.DenseFeatures(feature_columns)\n",
        "#Earlier, we used a small batch size to demonstrate how feature columns worked. We create a new input pipeline with a larger batch size.\n",
        "batch_size = 32\n",
        "train_ds = df_to_dataset(train, batch_size=batch_size)\n",
        "val_ds = df_to_dataset(val, shuffle=False, batch_size=batch_size)\n",
        "test_ds = df_to_dataset(test, shuffle=False, batch_size=batch_size)"
      ],
      "execution_count": 0,
      "outputs": []
    },
    {
      "cell_type": "markdown",
      "metadata": {
        "id": "HYxg7xfy4Let",
        "colab_type": "text"
      },
      "source": [
        "**Create, compile, and train the model**"
      ]
    },
    {
      "cell_type": "code",
      "metadata": {
        "id": "XJbAiVJBpyJF",
        "colab_type": "code",
        "colab": {
          "base_uri": "https://localhost:8080/",
          "height": 1734
        },
        "outputId": "c1c90b99-f9b1-4e02-93b8-d72394d0ef54"
      },
      "source": [
        "class myCallback(tf.keras.callbacks.Callback):\n",
        "  def on_epoch_end(self, epoch, logs={}):\n",
        "    if(logs.get('acc')>0.95):\n",
        "      print (logs.get('acc'))\n",
        "      print(\"\\nReached 95% accuracy so cancelling training!\")\n",
        "      self.model.stop_training = True\n",
        "\n",
        "callbacks = myCallback()   \n",
        "\n",
        "model = tf.keras.Sequential([\n",
        "  feature_layer,\n",
        "  #tf.keras.layers.Conv1D(5,input_shape=(20,1), kernel_size=12, padding='same', activation='relu'),\n",
        "  #tf.keras.layers.MaxPooling2D(2, 2),\n",
        "  tf.keras.layers.Flatten(),\n",
        "  tf.keras.layers.Dense(128, activation='relu'),\n",
        "  tf.keras.layers.Dense(128, activation='relu'),\n",
        "  tf.keras.layers.Dense(1, activation='sigmoid')\n",
        "])\n",
        "\n",
        "model.compile(optimizer='adam',\n",
        "              loss='binary_crossentropy',\n",
        "              metrics=['acc'])\n",
        "\n",
        "model.fit(train_ds,\n",
        "          validation_data=val_ds,\n",
        "          epochs=50,\n",
        "          verbose = 1,\n",
        "          callbacks=[callbacks])"
      ],
      "execution_count": 26,
      "outputs": [
        {
          "output_type": "stream",
          "text": [
            "Epoch 1/50\n",
            "64/64 [==============================] - 2s 28ms/step - loss: 0.7711 - acc: 0.5065 - val_loss: 0.9157 - val_acc: 0.5582\n",
            "Epoch 2/50\n",
            "64/64 [==============================] - 2s 26ms/step - loss: 0.7986 - acc: 0.6094 - val_loss: 0.7125 - val_acc: 0.6923\n",
            "Epoch 3/50\n",
            "64/64 [==============================] - 2s 24ms/step - loss: 0.7459 - acc: 0.6465 - val_loss: 0.7498 - val_acc: 0.6963\n",
            "Epoch 4/50\n",
            "64/64 [==============================] - 2s 25ms/step - loss: 0.6867 - acc: 0.6801 - val_loss: 0.9071 - val_acc: 0.6923\n",
            "Epoch 5/50\n",
            "64/64 [==============================] - 2s 24ms/step - loss: 0.8644 - acc: 0.6966 - val_loss: 0.7875 - val_acc: 0.7278\n",
            "Epoch 6/50\n",
            "64/64 [==============================] - 2s 24ms/step - loss: 0.6227 - acc: 0.7186 - val_loss: 0.6676 - val_acc: 0.7850\n",
            "Epoch 7/50\n",
            "64/64 [==============================] - 2s 24ms/step - loss: 0.5966 - acc: 0.7503 - val_loss: 0.7494 - val_acc: 0.7613\n",
            "Epoch 8/50\n",
            "64/64 [==============================] - 2s 24ms/step - loss: 0.6388 - acc: 0.7513 - val_loss: 0.6312 - val_acc: 0.7515\n",
            "Epoch 9/50\n",
            "64/64 [==============================] - 2s 25ms/step - loss: 0.6062 - acc: 0.7420 - val_loss: 0.6198 - val_acc: 0.7495\n",
            "Epoch 10/50\n",
            "64/64 [==============================] - 2s 24ms/step - loss: 0.5702 - acc: 0.7463 - val_loss: 0.7225 - val_acc: 0.7968\n",
            "Epoch 11/50\n",
            "64/64 [==============================] - 2s 24ms/step - loss: 0.5838 - acc: 0.7685 - val_loss: 0.5750 - val_acc: 0.8047\n",
            "Epoch 12/50\n",
            "64/64 [==============================] - 2s 24ms/step - loss: 0.6931 - acc: 0.7493 - val_loss: 0.6698 - val_acc: 0.7870\n",
            "Epoch 13/50\n",
            "64/64 [==============================] - 2s 24ms/step - loss: 0.5868 - acc: 0.7484 - val_loss: 0.6035 - val_acc: 0.8008\n",
            "Epoch 14/50\n",
            "64/64 [==============================] - 2s 24ms/step - loss: 0.5350 - acc: 0.7711 - val_loss: 0.5523 - val_acc: 0.8047\n",
            "Epoch 15/50\n",
            "64/64 [==============================] - 2s 25ms/step - loss: 0.6713 - acc: 0.7581 - val_loss: 0.6501 - val_acc: 0.8225\n",
            "Epoch 16/50\n",
            "64/64 [==============================] - 2s 24ms/step - loss: 0.5218 - acc: 0.7820 - val_loss: 0.5146 - val_acc: 0.8402\n",
            "Epoch 17/50\n",
            "64/64 [==============================] - 2s 25ms/step - loss: 0.4960 - acc: 0.8153 - val_loss: 0.5153 - val_acc: 0.8205\n",
            "Epoch 18/50\n",
            "64/64 [==============================] - 2s 25ms/step - loss: 0.4862 - acc: 0.8039 - val_loss: 0.5080 - val_acc: 0.8323\n",
            "Epoch 19/50\n",
            "64/64 [==============================] - 2s 25ms/step - loss: 0.4698 - acc: 0.8165 - val_loss: 0.4886 - val_acc: 0.8481\n",
            "Epoch 20/50\n",
            "64/64 [==============================] - 2s 24ms/step - loss: 0.4593 - acc: 0.8430 - val_loss: 0.4850 - val_acc: 0.8521\n",
            "Epoch 21/50\n",
            "64/64 [==============================] - 2s 24ms/step - loss: 0.4557 - acc: 0.8410 - val_loss: 0.4732 - val_acc: 0.8639\n",
            "Epoch 22/50\n",
            "64/64 [==============================] - 2s 25ms/step - loss: 0.4417 - acc: 0.8455 - val_loss: 0.4621 - val_acc: 0.8718\n",
            "Epoch 23/50\n",
            "64/64 [==============================] - 2s 24ms/step - loss: 0.4548 - acc: 0.8562 - val_loss: 0.4666 - val_acc: 0.8679\n",
            "Epoch 24/50\n",
            "64/64 [==============================] - 2s 24ms/step - loss: 0.5253 - acc: 0.8570 - val_loss: 0.6558 - val_acc: 0.8442\n",
            "Epoch 25/50\n",
            "64/64 [==============================] - 2s 24ms/step - loss: 0.5282 - acc: 0.8319 - val_loss: 0.5013 - val_acc: 0.8462\n",
            "Epoch 26/50\n",
            "64/64 [==============================] - 2s 25ms/step - loss: 0.5413 - acc: 0.8347 - val_loss: 0.4246 - val_acc: 0.8738\n",
            "Epoch 27/50\n",
            "64/64 [==============================] - 2s 24ms/step - loss: 0.4729 - acc: 0.8777 - val_loss: 0.6276 - val_acc: 0.8600\n",
            "Epoch 28/50\n",
            "64/64 [==============================] - 2s 25ms/step - loss: 0.4938 - acc: 0.8504 - val_loss: 0.4090 - val_acc: 0.8856\n",
            "Epoch 29/50\n",
            "64/64 [==============================] - 2s 25ms/step - loss: 0.4314 - acc: 0.8950 - val_loss: 0.5908 - val_acc: 0.8718\n",
            "Epoch 30/50\n",
            "64/64 [==============================] - 2s 25ms/step - loss: 0.4826 - acc: 0.8609 - val_loss: 0.4018 - val_acc: 0.8876\n",
            "Epoch 31/50\n",
            "64/64 [==============================] - 2s 25ms/step - loss: 0.3888 - acc: 0.8992 - val_loss: 0.3917 - val_acc: 0.9073\n",
            "Epoch 32/50\n",
            "64/64 [==============================] - 2s 25ms/step - loss: 0.3587 - acc: 0.8970 - val_loss: 0.3814 - val_acc: 0.9034\n",
            "Epoch 33/50\n",
            "64/64 [==============================] - 2s 25ms/step - loss: 0.3599 - acc: 0.9012 - val_loss: 0.3740 - val_acc: 0.9152\n",
            "Epoch 34/50\n",
            "64/64 [==============================] - 2s 26ms/step - loss: 0.4060 - acc: 0.9228 - val_loss: 0.5882 - val_acc: 0.8718\n",
            "Epoch 35/50\n",
            "64/64 [==============================] - 2s 25ms/step - loss: 0.4722 - acc: 0.8660 - val_loss: 0.3608 - val_acc: 0.9093\n",
            "Epoch 36/50\n",
            "64/64 [==============================] - 2s 25ms/step - loss: 0.4558 - acc: 0.9102 - val_loss: 0.3739 - val_acc: 0.9112\n",
            "Epoch 37/50\n",
            "64/64 [==============================] - 2s 28ms/step - loss: 0.4826 - acc: 0.9067 - val_loss: 0.4673 - val_acc: 0.8955\n",
            "Epoch 38/50\n",
            "64/64 [==============================] - 2s 28ms/step - loss: 0.6240 - acc: 0.8675 - val_loss: 0.3439 - val_acc: 0.9191\n",
            "Epoch 39/50\n",
            "64/64 [==============================] - 2s 28ms/step - loss: 0.3200 - acc: 0.9249 - val_loss: 0.5661 - val_acc: 0.8974\n",
            "Epoch 40/50\n",
            "64/64 [==============================] - 2s 28ms/step - loss: 0.6550 - acc: 0.8922 - val_loss: 0.6885 - val_acc: 0.8580\n",
            "Epoch 41/50\n",
            "64/64 [==============================] - 2s 28ms/step - loss: 0.3810 - acc: 0.8915 - val_loss: 0.3256 - val_acc: 0.9329\n",
            "Epoch 42/50\n",
            "64/64 [==============================] - 2s 27ms/step - loss: 0.2953 - acc: 0.9362 - val_loss: 0.3107 - val_acc: 0.9369\n",
            "Epoch 43/50\n",
            "64/64 [==============================] - 2s 24ms/step - loss: 0.4542 - acc: 0.9241 - val_loss: 0.3168 - val_acc: 0.9369\n",
            "Epoch 44/50\n",
            "64/64 [==============================] - 2s 25ms/step - loss: 0.2683 - acc: 0.9403 - val_loss: 0.3069 - val_acc: 0.9369\n",
            "Epoch 45/50\n",
            "64/64 [==============================] - 2s 25ms/step - loss: 0.3473 - acc: 0.9464 - val_loss: 0.5328 - val_acc: 0.9112\n",
            "Epoch 46/50\n",
            "64/64 [==============================] - 2s 26ms/step - loss: 0.4077 - acc: 0.8939 - val_loss: 0.3086 - val_acc: 0.9389\n",
            "Epoch 47/50\n",
            "64/64 [==============================] - 2s 26ms/step - loss: 0.4778 - acc: 0.9197 - val_loss: 0.3171 - val_acc: 0.9389\n",
            "Epoch 48/50\n",
            "64/64 [==============================] - 2s 25ms/step - loss: 0.3422 - acc: 0.9313 - val_loss: 0.3919 - val_acc: 0.9152\n",
            "Epoch 49/50\n",
            "64/64 [==============================] - 2s 25ms/step - loss: 0.2794 - acc: 0.9351 - val_loss: 0.3060 - val_acc: 0.9369\n",
            "Epoch 50/50\n",
            "64/64 [==============================] - 2s 25ms/step - loss: 0.3767 - acc: 0.9300 - val_loss: 0.2922 - val_acc: 0.9467\n"
          ],
          "name": "stdout"
        },
        {
          "output_type": "execute_result",
          "data": {
            "text/plain": [
              "<tensorflow.python.keras.callbacks.History at 0x7f22d4217f60>"
            ]
          },
          "metadata": {
            "tags": []
          },
          "execution_count": 26
        }
      ]
    },
    {
      "cell_type": "markdown",
      "metadata": {
        "id": "Wy4emRxVqDtj",
        "colab_type": "text"
      },
      "source": [
        "**Accuracy**"
      ]
    },
    {
      "cell_type": "code",
      "metadata": {
        "id": "H9T0TS5-qC8E",
        "colab_type": "code",
        "colab": {
          "base_uri": "https://localhost:8080/",
          "height": 51
        },
        "outputId": "35b158e8-0669-4d96-f14c-f55ede1f4323"
      },
      "source": [
        "loss, accuracy = model.evaluate(test_ds)\n",
        "print(\"Accuracy\", accuracy)"
      ],
      "execution_count": 27,
      "outputs": [
        {
          "output_type": "stream",
          "text": [
            "20/20 [==============================] - 0s 14ms/step - loss: 0.2167 - acc: 0.9448\n",
            "Accuracy 0.94479495\n"
          ],
          "name": "stdout"
        }
      ]
    },
    {
      "cell_type": "code",
      "metadata": {
        "id": "L7cB2UGHB-Re",
        "colab_type": "code",
        "colab": {}
      },
      "source": [
        ""
      ],
      "execution_count": 0,
      "outputs": []
    }
  ]
}