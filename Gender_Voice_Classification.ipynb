{
  "nbformat": 4,
  "nbformat_minor": 0,
  "metadata": {
    "colab": {
      "name": "Gender Voice Classification",
      "version": "0.3.2",
      "provenance": [],
      "collapsed_sections": [],
      "include_colab_link": true
    },
    "kernelspec": {
      "name": "python3",
      "display_name": "Python 3"
    }
  },
  "cells": [
    {
      "cell_type": "markdown",
      "metadata": {
        "id": "view-in-github",
        "colab_type": "text"
      },
      "source": [
        "<a href=\"https://colab.research.google.com/github/advait1987/tf_gendervoiceclassify/blob/master/Gender_Voice_Classification.ipynb\" target=\"_parent\"><img src=\"https://colab.research.google.com/assets/colab-badge.svg\" alt=\"Open In Colab\"/></a>"
      ]
    },
    {
      "cell_type": "code",
      "metadata": {
        "id": "KxKMWTdilGrb",
        "colab_type": "code",
        "colab": {
          "base_uri": "https://localhost:8080/",
          "height": 85
        },
        "outputId": "74a89ba9-1a95-4289-f996-23c28d34d68f"
      },
      "source": [
        "# This Python 3 environment comes with many helpful analytics libraries installed\n",
        "# It is defined by the kaggle/python docker image: https://github.com/kaggle/docker-python\n",
        "# For example, here's several helpful packages to load in \n",
        "\n",
        "import numpy as np # linear algebra\n",
        "import pandas as pd # data processing, CSV file I/O (e.g. pd.read_csv)\n",
        "!pip install -q tensorflow==2.0.0-alpha0\n",
        "import tensorflow as tf\n",
        "\n",
        "from tensorflow import feature_column\n",
        "from tensorflow.keras import layers\n",
        "from sklearn.model_selection import train_test_split"
      ],
      "execution_count": 1,
      "outputs": [
        {
          "output_type": "stream",
          "text": [
            "\u001b[K     |████████████████████████████████| 79.9MB 312kB/s \n",
            "\u001b[K     |████████████████████████████████| 3.0MB 38.5MB/s \n",
            "\u001b[K     |████████████████████████████████| 61kB 20.6MB/s \n",
            "\u001b[K     |████████████████████████████████| 419kB 46.6MB/s \n",
            "\u001b[?25h"
          ],
          "name": "stdout"
        }
      ]
    },
    {
      "cell_type": "code",
      "metadata": {
        "id": "O7sQSOR6mauE",
        "colab_type": "code",
        "outputId": "affe59bd-b46a-4214-a813-d8fe4ce61559",
        "colab": {
          "base_uri": "https://localhost:8080/",
          "height": 34
        }
      },
      "source": [
        "# Input data files are available in the \"../input/\" directory.\n",
        "# For example, running this (by clicking run or pressing Shift+Enter) will list the files in the input directory\n",
        "\n",
        "from subprocess import check_output\n",
        "print(check_output([\"ls\", \"../tmp\"]).decode(\"utf8\"))\n",
        "\n",
        "# Any results you write to the current directory are saved as output."
      ],
      "execution_count": 2,
      "outputs": [
        {
          "output_type": "stream",
          "text": [
            "\n"
          ],
          "name": "stdout"
        }
      ]
    },
    {
      "cell_type": "code",
      "metadata": {
        "id": "Gpy9Uu1Jmiq3",
        "colab_type": "code",
        "colab": {}
      },
      "source": [
        "url = 'https://github.com/advait1987/tf_gendervoiceclassify/raw/master/voice.csv'\n",
        "dataframe = pd.read_csv(url)"
      ],
      "execution_count": 0,
      "outputs": []
    },
    {
      "cell_type": "markdown",
      "metadata": {
        "id": "c3ma_znwpX3c",
        "colab_type": "text"
      },
      "source": [
        "## **Explore**"
      ]
    },
    {
      "cell_type": "code",
      "metadata": {
        "id": "Ys_vEtTHnKiO",
        "colab_type": "code",
        "outputId": "2621d2a5-a89c-45c2-cbe3-785794fdeb69",
        "colab": {
          "base_uri": "https://localhost:8080/",
          "height": 111
        }
      },
      "source": [
        "dataframe.head(2)"
      ],
      "execution_count": 4,
      "outputs": [
        {
          "output_type": "execute_result",
          "data": {
            "text/html": [
              "<div>\n",
              "<style scoped>\n",
              "    .dataframe tbody tr th:only-of-type {\n",
              "        vertical-align: middle;\n",
              "    }\n",
              "\n",
              "    .dataframe tbody tr th {\n",
              "        vertical-align: top;\n",
              "    }\n",
              "\n",
              "    .dataframe thead th {\n",
              "        text-align: right;\n",
              "    }\n",
              "</style>\n",
              "<table border=\"1\" class=\"dataframe\">\n",
              "  <thead>\n",
              "    <tr style=\"text-align: right;\">\n",
              "      <th></th>\n",
              "      <th>meanfreq</th>\n",
              "      <th>sd</th>\n",
              "      <th>median</th>\n",
              "      <th>Q25</th>\n",
              "      <th>Q75</th>\n",
              "      <th>IQR</th>\n",
              "      <th>skew</th>\n",
              "      <th>kurt</th>\n",
              "      <th>sp.ent</th>\n",
              "      <th>sfm</th>\n",
              "      <th>mode</th>\n",
              "      <th>centroid</th>\n",
              "      <th>meanfun</th>\n",
              "      <th>minfun</th>\n",
              "      <th>maxfun</th>\n",
              "      <th>meandom</th>\n",
              "      <th>mindom</th>\n",
              "      <th>maxdom</th>\n",
              "      <th>dfrange</th>\n",
              "      <th>modindx</th>\n",
              "      <th>label</th>\n",
              "    </tr>\n",
              "  </thead>\n",
              "  <tbody>\n",
              "    <tr>\n",
              "      <th>0</th>\n",
              "      <td>0.059781</td>\n",
              "      <td>0.064241</td>\n",
              "      <td>0.032027</td>\n",
              "      <td>0.015071</td>\n",
              "      <td>0.090193</td>\n",
              "      <td>0.075122</td>\n",
              "      <td>12.863462</td>\n",
              "      <td>274.402906</td>\n",
              "      <td>0.893369</td>\n",
              "      <td>0.491918</td>\n",
              "      <td>0.0</td>\n",
              "      <td>0.059781</td>\n",
              "      <td>0.084279</td>\n",
              "      <td>0.015702</td>\n",
              "      <td>0.275862</td>\n",
              "      <td>0.007812</td>\n",
              "      <td>0.007812</td>\n",
              "      <td>0.007812</td>\n",
              "      <td>0.000000</td>\n",
              "      <td>0.000000</td>\n",
              "      <td>male</td>\n",
              "    </tr>\n",
              "    <tr>\n",
              "      <th>1</th>\n",
              "      <td>0.066009</td>\n",
              "      <td>0.067310</td>\n",
              "      <td>0.040229</td>\n",
              "      <td>0.019414</td>\n",
              "      <td>0.092666</td>\n",
              "      <td>0.073252</td>\n",
              "      <td>22.423285</td>\n",
              "      <td>634.613855</td>\n",
              "      <td>0.892193</td>\n",
              "      <td>0.513724</td>\n",
              "      <td>0.0</td>\n",
              "      <td>0.066009</td>\n",
              "      <td>0.107937</td>\n",
              "      <td>0.015826</td>\n",
              "      <td>0.250000</td>\n",
              "      <td>0.009014</td>\n",
              "      <td>0.007812</td>\n",
              "      <td>0.054688</td>\n",
              "      <td>0.046875</td>\n",
              "      <td>0.052632</td>\n",
              "      <td>male</td>\n",
              "    </tr>\n",
              "  </tbody>\n",
              "</table>\n",
              "</div>"
            ],
            "text/plain": [
              "   meanfreq        sd    median       Q25  ...    maxdom   dfrange   modindx  label\n",
              "0  0.059781  0.064241  0.032027  0.015071  ...  0.007812  0.000000  0.000000   male\n",
              "1  0.066009  0.067310  0.040229  0.019414  ...  0.054688  0.046875  0.052632   male\n",
              "\n",
              "[2 rows x 21 columns]"
            ]
          },
          "metadata": {
            "tags": []
          },
          "execution_count": 4
        }
      ]
    },
    {
      "cell_type": "code",
      "metadata": {
        "id": "EOMcdosNBfGW",
        "colab_type": "code",
        "outputId": "130c2fe8-8968-4c93-e3e8-96e188f2d8ea",
        "colab": {
          "base_uri": "https://localhost:8080/",
          "height": 111
        }
      },
      "source": [
        "from sklearn.preprocessing import LabelEncoder\n",
        "gender_encoder = LabelEncoder()\n",
        "dataframe['label'] = gender_encoder.fit_transform(dataframe['label'])\n",
        "dataframe.head(2)"
      ],
      "execution_count": 5,
      "outputs": [
        {
          "output_type": "execute_result",
          "data": {
            "text/html": [
              "<div>\n",
              "<style scoped>\n",
              "    .dataframe tbody tr th:only-of-type {\n",
              "        vertical-align: middle;\n",
              "    }\n",
              "\n",
              "    .dataframe tbody tr th {\n",
              "        vertical-align: top;\n",
              "    }\n",
              "\n",
              "    .dataframe thead th {\n",
              "        text-align: right;\n",
              "    }\n",
              "</style>\n",
              "<table border=\"1\" class=\"dataframe\">\n",
              "  <thead>\n",
              "    <tr style=\"text-align: right;\">\n",
              "      <th></th>\n",
              "      <th>meanfreq</th>\n",
              "      <th>sd</th>\n",
              "      <th>median</th>\n",
              "      <th>Q25</th>\n",
              "      <th>Q75</th>\n",
              "      <th>IQR</th>\n",
              "      <th>skew</th>\n",
              "      <th>kurt</th>\n",
              "      <th>sp.ent</th>\n",
              "      <th>sfm</th>\n",
              "      <th>mode</th>\n",
              "      <th>centroid</th>\n",
              "      <th>meanfun</th>\n",
              "      <th>minfun</th>\n",
              "      <th>maxfun</th>\n",
              "      <th>meandom</th>\n",
              "      <th>mindom</th>\n",
              "      <th>maxdom</th>\n",
              "      <th>dfrange</th>\n",
              "      <th>modindx</th>\n",
              "      <th>label</th>\n",
              "    </tr>\n",
              "  </thead>\n",
              "  <tbody>\n",
              "    <tr>\n",
              "      <th>0</th>\n",
              "      <td>0.059781</td>\n",
              "      <td>0.064241</td>\n",
              "      <td>0.032027</td>\n",
              "      <td>0.015071</td>\n",
              "      <td>0.090193</td>\n",
              "      <td>0.075122</td>\n",
              "      <td>12.863462</td>\n",
              "      <td>274.402906</td>\n",
              "      <td>0.893369</td>\n",
              "      <td>0.491918</td>\n",
              "      <td>0.0</td>\n",
              "      <td>0.059781</td>\n",
              "      <td>0.084279</td>\n",
              "      <td>0.015702</td>\n",
              "      <td>0.275862</td>\n",
              "      <td>0.007812</td>\n",
              "      <td>0.007812</td>\n",
              "      <td>0.007812</td>\n",
              "      <td>0.000000</td>\n",
              "      <td>0.000000</td>\n",
              "      <td>1</td>\n",
              "    </tr>\n",
              "    <tr>\n",
              "      <th>1</th>\n",
              "      <td>0.066009</td>\n",
              "      <td>0.067310</td>\n",
              "      <td>0.040229</td>\n",
              "      <td>0.019414</td>\n",
              "      <td>0.092666</td>\n",
              "      <td>0.073252</td>\n",
              "      <td>22.423285</td>\n",
              "      <td>634.613855</td>\n",
              "      <td>0.892193</td>\n",
              "      <td>0.513724</td>\n",
              "      <td>0.0</td>\n",
              "      <td>0.066009</td>\n",
              "      <td>0.107937</td>\n",
              "      <td>0.015826</td>\n",
              "      <td>0.250000</td>\n",
              "      <td>0.009014</td>\n",
              "      <td>0.007812</td>\n",
              "      <td>0.054688</td>\n",
              "      <td>0.046875</td>\n",
              "      <td>0.052632</td>\n",
              "      <td>1</td>\n",
              "    </tr>\n",
              "  </tbody>\n",
              "</table>\n",
              "</div>"
            ],
            "text/plain": [
              "   meanfreq        sd    median       Q25  ...    maxdom   dfrange   modindx  label\n",
              "0  0.059781  0.064241  0.032027  0.015071  ...  0.007812  0.000000  0.000000      1\n",
              "1  0.066009  0.067310  0.040229  0.019414  ...  0.054688  0.046875  0.052632      1\n",
              "\n",
              "[2 rows x 21 columns]"
            ]
          },
          "metadata": {
            "tags": []
          },
          "execution_count": 5
        }
      ]
    },
    {
      "cell_type": "code",
      "metadata": {
        "id": "YDPEBCKJo2Gx",
        "colab_type": "code",
        "outputId": "8072aa1e-75a8-4e42-c6fe-d688fcd7bdbc",
        "colab": {
          "base_uri": "https://localhost:8080/",
          "height": 68
        }
      },
      "source": [
        "print(\"Total number of samples: {}\".format(dataframe.shape[0]))\n",
        "print(\"Number of male: {}\".format(dataframe[dataframe.label == 1].shape[0]))\n",
        "print(\"Number of female: {}\".format(dataframe[dataframe.label == 0].shape[0]))"
      ],
      "execution_count": 6,
      "outputs": [
        {
          "output_type": "stream",
          "text": [
            "Total number of samples: 3168\n",
            "Number of male: 1584\n",
            "Number of female: 1584\n"
          ],
          "name": "stdout"
        }
      ]
    },
    {
      "cell_type": "markdown",
      "metadata": {
        "id": "xS1RQffBprt4",
        "colab_type": "text"
      },
      "source": [
        "Split Data"
      ]
    },
    {
      "cell_type": "code",
      "metadata": {
        "id": "0uYx38qRpkMw",
        "colab_type": "code",
        "outputId": "77c2d467-4120-460c-8d0d-acec7a0b01ed",
        "colab": {
          "base_uri": "https://localhost:8080/",
          "height": 272
        }
      },
      "source": [
        "train, test = train_test_split(dataframe, test_size=0.2)\n",
        "train, val = train_test_split(train, test_size=0.2)\n",
        "print(len(train), 'train examples')\n",
        "print(len(val), 'validation examples')\n",
        "print(len(test), 'test examples')\n",
        "print (train.shape)\n",
        "train.head()"
      ],
      "execution_count": 7,
      "outputs": [
        {
          "output_type": "stream",
          "text": [
            "2027 train examples\n",
            "507 validation examples\n",
            "634 test examples\n",
            "(2027, 21)\n"
          ],
          "name": "stdout"
        },
        {
          "output_type": "execute_result",
          "data": {
            "text/html": [
              "<div>\n",
              "<style scoped>\n",
              "    .dataframe tbody tr th:only-of-type {\n",
              "        vertical-align: middle;\n",
              "    }\n",
              "\n",
              "    .dataframe tbody tr th {\n",
              "        vertical-align: top;\n",
              "    }\n",
              "\n",
              "    .dataframe thead th {\n",
              "        text-align: right;\n",
              "    }\n",
              "</style>\n",
              "<table border=\"1\" class=\"dataframe\">\n",
              "  <thead>\n",
              "    <tr style=\"text-align: right;\">\n",
              "      <th></th>\n",
              "      <th>meanfreq</th>\n",
              "      <th>sd</th>\n",
              "      <th>median</th>\n",
              "      <th>Q25</th>\n",
              "      <th>Q75</th>\n",
              "      <th>IQR</th>\n",
              "      <th>skew</th>\n",
              "      <th>kurt</th>\n",
              "      <th>sp.ent</th>\n",
              "      <th>sfm</th>\n",
              "      <th>mode</th>\n",
              "      <th>centroid</th>\n",
              "      <th>meanfun</th>\n",
              "      <th>minfun</th>\n",
              "      <th>maxfun</th>\n",
              "      <th>meandom</th>\n",
              "      <th>mindom</th>\n",
              "      <th>maxdom</th>\n",
              "      <th>dfrange</th>\n",
              "      <th>modindx</th>\n",
              "      <th>label</th>\n",
              "    </tr>\n",
              "  </thead>\n",
              "  <tbody>\n",
              "    <tr>\n",
              "      <th>2896</th>\n",
              "      <td>0.212141</td>\n",
              "      <td>0.043329</td>\n",
              "      <td>0.212018</td>\n",
              "      <td>0.192473</td>\n",
              "      <td>0.242610</td>\n",
              "      <td>0.050137</td>\n",
              "      <td>1.604483</td>\n",
              "      <td>5.042737</td>\n",
              "      <td>0.881385</td>\n",
              "      <td>0.308087</td>\n",
              "      <td>0.206495</td>\n",
              "      <td>0.212141</td>\n",
              "      <td>0.151118</td>\n",
              "      <td>0.047013</td>\n",
              "      <td>0.279070</td>\n",
              "      <td>1.635000</td>\n",
              "      <td>0.023438</td>\n",
              "      <td>7.617188</td>\n",
              "      <td>7.593750</td>\n",
              "      <td>0.145259</td>\n",
              "      <td>0</td>\n",
              "    </tr>\n",
              "    <tr>\n",
              "      <th>1556</th>\n",
              "      <td>0.162938</td>\n",
              "      <td>0.063401</td>\n",
              "      <td>0.155755</td>\n",
              "      <td>0.110694</td>\n",
              "      <td>0.223837</td>\n",
              "      <td>0.113143</td>\n",
              "      <td>3.126004</td>\n",
              "      <td>15.665239</td>\n",
              "      <td>0.911939</td>\n",
              "      <td>0.425609</td>\n",
              "      <td>0.115265</td>\n",
              "      <td>0.162938</td>\n",
              "      <td>0.110186</td>\n",
              "      <td>0.043668</td>\n",
              "      <td>0.222222</td>\n",
              "      <td>0.245117</td>\n",
              "      <td>0.034180</td>\n",
              "      <td>0.781250</td>\n",
              "      <td>0.747070</td>\n",
              "      <td>0.262092</td>\n",
              "      <td>1</td>\n",
              "    </tr>\n",
              "    <tr>\n",
              "      <th>2967</th>\n",
              "      <td>0.166562</td>\n",
              "      <td>0.057376</td>\n",
              "      <td>0.159473</td>\n",
              "      <td>0.144891</td>\n",
              "      <td>0.198603</td>\n",
              "      <td>0.053711</td>\n",
              "      <td>3.008209</td>\n",
              "      <td>13.797853</td>\n",
              "      <td>0.910222</td>\n",
              "      <td>0.492689</td>\n",
              "      <td>0.159842</td>\n",
              "      <td>0.166562</td>\n",
              "      <td>0.141490</td>\n",
              "      <td>0.019531</td>\n",
              "      <td>0.227273</td>\n",
              "      <td>0.512288</td>\n",
              "      <td>0.004883</td>\n",
              "      <td>1.362305</td>\n",
              "      <td>1.357422</td>\n",
              "      <td>0.360911</td>\n",
              "      <td>0</td>\n",
              "    </tr>\n",
              "    <tr>\n",
              "      <th>1447</th>\n",
              "      <td>0.178306</td>\n",
              "      <td>0.062549</td>\n",
              "      <td>0.178832</td>\n",
              "      <td>0.136423</td>\n",
              "      <td>0.235547</td>\n",
              "      <td>0.099124</td>\n",
              "      <td>1.178621</td>\n",
              "      <td>4.001226</td>\n",
              "      <td>0.923416</td>\n",
              "      <td>0.448994</td>\n",
              "      <td>0.159927</td>\n",
              "      <td>0.178306</td>\n",
              "      <td>0.112051</td>\n",
              "      <td>0.047151</td>\n",
              "      <td>0.279070</td>\n",
              "      <td>0.947368</td>\n",
              "      <td>0.023438</td>\n",
              "      <td>5.390625</td>\n",
              "      <td>5.367188</td>\n",
              "      <td>0.117647</td>\n",
              "      <td>1</td>\n",
              "    </tr>\n",
              "    <tr>\n",
              "      <th>1531</th>\n",
              "      <td>0.135390</td>\n",
              "      <td>0.079694</td>\n",
              "      <td>0.116456</td>\n",
              "      <td>0.100607</td>\n",
              "      <td>0.213847</td>\n",
              "      <td>0.113240</td>\n",
              "      <td>8.887654</td>\n",
              "      <td>152.919703</td>\n",
              "      <td>0.898122</td>\n",
              "      <td>0.462075</td>\n",
              "      <td>0.000000</td>\n",
              "      <td>0.135390</td>\n",
              "      <td>0.101600</td>\n",
              "      <td>0.015936</td>\n",
              "      <td>0.258065</td>\n",
              "      <td>0.030331</td>\n",
              "      <td>0.007812</td>\n",
              "      <td>0.125000</td>\n",
              "      <td>0.117188</td>\n",
              "      <td>0.395960</td>\n",
              "      <td>1</td>\n",
              "    </tr>\n",
              "  </tbody>\n",
              "</table>\n",
              "</div>"
            ],
            "text/plain": [
              "      meanfreq        sd    median  ...   dfrange   modindx  label\n",
              "2896  0.212141  0.043329  0.212018  ...  7.593750  0.145259      0\n",
              "1556  0.162938  0.063401  0.155755  ...  0.747070  0.262092      1\n",
              "2967  0.166562  0.057376  0.159473  ...  1.357422  0.360911      0\n",
              "1447  0.178306  0.062549  0.178832  ...  5.367188  0.117647      1\n",
              "1531  0.135390  0.079694  0.116456  ...  0.117188  0.395960      1\n",
              "\n",
              "[5 rows x 21 columns]"
            ]
          },
          "metadata": {
            "tags": []
          },
          "execution_count": 7
        }
      ]
    },
    {
      "cell_type": "markdown",
      "metadata": {
        "id": "uHYtPfUlp6kf",
        "colab_type": "text"
      },
      "source": [
        "**Create an input pipeline using tf.data**\n",
        "This will enable us to use feature columns as a bridge to map from the columns in the Pandas dataframe to features \n",
        "used to train the model. If we were working with a very large CSV file (so large that it does not fit into memory), we would use tf.data to read it from disk directly. That is not covered in this tutorial."
      ]
    },
    {
      "cell_type": "code",
      "metadata": {
        "id": "QL97G_M2us-g",
        "colab_type": "code",
        "colab": {}
      },
      "source": [
        "# A utility method to create a tf.data dataset from a Pandas Dataframe\n",
        "def df_to_dataset(dataframe, shuffle=True, batch_size=32):\n",
        "  dataframe = dataframe.copy()\n",
        "  labels = dataframe.pop('label')\n",
        "  ds = tf.data.Dataset.from_tensor_slices((dict(dataframe), labels))\n",
        "  if shuffle:\n",
        "    ds = ds.shuffle(buffer_size=len(dataframe))\n",
        "  ds = ds.batch(batch_size)\n",
        "  return ds\n",
        "\n",
        "batch_size = 5 # A small batch sized is used for demonstration purposes\n",
        "train_ds = df_to_dataset(train, batch_size=batch_size)\n",
        "val_ds = df_to_dataset(val, shuffle=False, batch_size=batch_size)\n",
        "test_ds = df_to_dataset(test, shuffle=False, batch_size=batch_size)"
      ],
      "execution_count": 0,
      "outputs": []
    },
    {
      "cell_type": "code",
      "metadata": {
        "id": "lzF_uWtNvlBv",
        "colab_type": "code",
        "outputId": "6567bc4c-6f14-4681-f01f-41cba690b26b",
        "colab": {
          "base_uri": "https://localhost:8080/",
          "height": 68
        }
      },
      "source": [
        "# Test input pipeline\n",
        "for feature_batch, label_batch in train_ds.take(1):\n",
        "  print('Every feature:', list(feature_batch.keys()))\n",
        "  print('A batch of ages:', feature_batch['median'])\n",
        "  print('A batch of targets:', label_batch )"
      ],
      "execution_count": 9,
      "outputs": [
        {
          "output_type": "stream",
          "text": [
            "Every feature: ['meanfreq', 'sd', 'median', 'Q25', 'Q75', 'IQR', 'skew', 'kurt', 'sp.ent', 'sfm', 'mode', 'centroid', 'meanfun', 'minfun', 'maxfun', 'meandom', 'mindom', 'maxdom', 'dfrange', 'modindx']\n",
            "A batch of ages: tf.Tensor([0.20564315 0.19573334 0.18781085 0.1948538  0.19025041], shape=(5,), dtype=float32)\n",
            "A batch of targets: tf.Tensor([0 1 0 1 1], shape=(5,), dtype=int32)\n"
          ],
          "name": "stdout"
        }
      ]
    },
    {
      "cell_type": "markdown",
      "metadata": {
        "id": "WbZFAb7X3LLE",
        "colab_type": "text"
      },
      "source": [
        "**Choose which columns to use**"
      ]
    },
    {
      "cell_type": "code",
      "metadata": {
        "id": "-NRcwdv43QVE",
        "colab_type": "code",
        "colab": {}
      },
      "source": [
        "feature_columns = []\n",
        "\n",
        "# numeric cols\n",
        "for header in list(feature_batch.keys()):\n",
        "  feature_columns.append(feature_column.numeric_column(header))\n",
        "\n",
        "# bucketized cols\n",
        "#age_buckets = feature_column.bucketized_column(age, boundaries=[18, 25, 30, 35, 40, 45, 50, 55, 60, 65])\n",
        "#feature_columns.append(age_buckets)\n",
        "\n",
        "# indicator cols\n",
        "#thal = feature_column.categorical_column_with_vocabulary_list(\n",
        "#      'thal', ['fixed', 'normal', 'reversible'])\n",
        "#thal_one_hot = feature_column.indicator_column(thal)\n",
        "#feature_columns.append(thal_one_hot)\n",
        "\n",
        "# embedding cols\n",
        "#thal_embedding = feature_column.embedding_column(thal, dimension=8)\n",
        "#feature_columns.append(thal_embedding)\n",
        "\n",
        "# crossed cols\n",
        "#crossed_feature = feature_column.crossed_column([age_buckets, thal], hash_bucket_size=1000)\n",
        "#crossed_feature = feature_column.indicator_column(crossed_feature)\n",
        "#feature_columns.append(crossed_feature)"
      ],
      "execution_count": 0,
      "outputs": []
    },
    {
      "cell_type": "markdown",
      "metadata": {
        "id": "3PjOlTfX34Gk",
        "colab_type": "text"
      },
      "source": [
        "**Create feature layer**"
      ]
    },
    {
      "cell_type": "code",
      "metadata": {
        "id": "fLeTso8w39lC",
        "colab_type": "code",
        "colab": {}
      },
      "source": [
        "feature_layer = tf.keras.layers.DenseFeatures(feature_columns)\n",
        "#Earlier, we used a small batch size to demonstrate how feature columns worked. We create a new input pipeline with a larger batch size.\n",
        "batch_size = 32\n",
        "train_ds = df_to_dataset(train, batch_size=batch_size)\n",
        "val_ds = df_to_dataset(val, shuffle=False, batch_size=batch_size)\n",
        "test_ds = df_to_dataset(test, shuffle=False, batch_size=batch_size)"
      ],
      "execution_count": 0,
      "outputs": []
    },
    {
      "cell_type": "markdown",
      "metadata": {
        "id": "HYxg7xfy4Let",
        "colab_type": "text"
      },
      "source": [
        "**Create, compile, and train the model**"
      ]
    },
    {
      "cell_type": "code",
      "metadata": {
        "id": "XJbAiVJBpyJF",
        "colab_type": "code",
        "outputId": "3537e145-6432-4357-f3a6-453e23dfa977",
        "colab": {
          "base_uri": "https://localhost:8080/",
          "height": 1343
        }
      },
      "source": [
        "class myCallback(tf.keras.callbacks.Callback):\n",
        "  def on_epoch_end(self, epoch, logs={}):\n",
        "    if(logs.get('acc')>0.95):\n",
        "      print (logs.get('acc'))\n",
        "      print(\"\\nReached 95% accuracy so cancelling training!\")\n",
        "      self.model.stop_training = True\n",
        "\n",
        "callbacks = myCallback()   \n",
        "\n",
        "model = tf.keras.Sequential([\n",
        "  feature_layer,\n",
        "  #tf.keras.layers.Conv1D(filters=5, kernel_size=5, input_shape=(None,20), activation='relu'),\n",
        "  #tf.keras.layers.MaxPooling2D(2,2),\n",
        "  #tf.keras.layers.Flatten(),\n",
        "  tf.keras.layers.Dense(128, activation='relu'),\n",
        "  tf.keras.layers.Dense(32, activation='relu'),\n",
        "  tf.keras.layers.Dense(32, activation='relu'),\n",
        "  tf.keras.layers.Dense(1, activation='sigmoid')\n",
        "])\n",
        "\n",
        "\n",
        "model.compile(optimizer=tf.keras.optimizers.Adam(0.001),\n",
        "              loss='binary_crossentropy',\n",
        "              metrics=['acc'])\n",
        "\n",
        "model.fit(train_ds,\n",
        "          validation_data=val_ds,\n",
        "          epochs=50,\n",
        "          callbacks=[callbacks])\n",
        "\n",
        "#model.summary()"
      ],
      "execution_count": 44,
      "outputs": [
        {
          "output_type": "stream",
          "text": [
            "Epoch 1/50\n",
            "64/64 [==============================] - 2s 28ms/step - loss: 0.8309 - acc: 0.5279 - val_loss: 0.6566 - val_acc: 0.5365\n",
            "Epoch 2/50\n",
            "64/64 [==============================] - 2s 24ms/step - loss: 0.6872 - acc: 0.5589 - val_loss: 0.6309 - val_acc: 0.5858\n",
            "Epoch 3/50\n",
            "64/64 [==============================] - 2s 24ms/step - loss: 0.7269 - acc: 0.6242 - val_loss: 0.6256 - val_acc: 0.6568\n",
            "Epoch 4/50\n",
            "64/64 [==============================] - 2s 25ms/step - loss: 0.6261 - acc: 0.6355 - val_loss: 0.5669 - val_acc: 0.6982\n",
            "Epoch 5/50\n",
            "64/64 [==============================] - 2s 26ms/step - loss: 0.6791 - acc: 0.6941 - val_loss: 0.5888 - val_acc: 0.7140\n",
            "Epoch 6/50\n",
            "64/64 [==============================] - 2s 26ms/step - loss: 0.6111 - acc: 0.6784 - val_loss: 0.5266 - val_acc: 0.7377\n",
            "Epoch 7/50\n",
            "64/64 [==============================] - 2s 26ms/step - loss: 0.6137 - acc: 0.7135 - val_loss: 0.5205 - val_acc: 0.7337\n",
            "Epoch 8/50\n",
            "64/64 [==============================] - 2s 26ms/step - loss: 0.5483 - acc: 0.7154 - val_loss: 0.5287 - val_acc: 0.7278\n",
            "Epoch 9/50\n",
            "64/64 [==============================] - 2s 26ms/step - loss: 0.5127 - acc: 0.7646 - val_loss: 0.4617 - val_acc: 0.7850\n",
            "Epoch 10/50\n",
            "64/64 [==============================] - 2s 24ms/step - loss: 0.4839 - acc: 0.7800 - val_loss: 0.4310 - val_acc: 0.8284\n",
            "Epoch 11/50\n",
            "64/64 [==============================] - 2s 24ms/step - loss: 0.4727 - acc: 0.7991 - val_loss: 0.4326 - val_acc: 0.8185\n",
            "Epoch 12/50\n",
            "64/64 [==============================] - 2s 24ms/step - loss: 0.4363 - acc: 0.8013 - val_loss: 0.3955 - val_acc: 0.8619\n",
            "Epoch 13/50\n",
            "64/64 [==============================] - 2s 24ms/step - loss: 0.4215 - acc: 0.8214 - val_loss: 0.3999 - val_acc: 0.8284\n",
            "Epoch 14/50\n",
            "64/64 [==============================] - 2s 24ms/step - loss: 0.4461 - acc: 0.8271 - val_loss: 0.3618 - val_acc: 0.8679\n",
            "Epoch 15/50\n",
            "64/64 [==============================] - 2s 24ms/step - loss: 0.3818 - acc: 0.8446 - val_loss: 0.3489 - val_acc: 0.8777\n",
            "Epoch 16/50\n",
            "64/64 [==============================] - 2s 24ms/step - loss: 0.3765 - acc: 0.8473 - val_loss: 0.3261 - val_acc: 0.8876\n",
            "Epoch 17/50\n",
            "64/64 [==============================] - 2s 24ms/step - loss: 0.3454 - acc: 0.8574 - val_loss: 0.3091 - val_acc: 0.8955\n",
            "Epoch 18/50\n",
            "64/64 [==============================] - 2s 24ms/step - loss: 0.3373 - acc: 0.8580 - val_loss: 0.3007 - val_acc: 0.9014\n",
            "Epoch 19/50\n",
            "64/64 [==============================] - 2s 24ms/step - loss: 0.3087 - acc: 0.8679 - val_loss: 0.2713 - val_acc: 0.9093\n",
            "Epoch 20/50\n",
            "64/64 [==============================] - 2s 24ms/step - loss: 0.2921 - acc: 0.8894 - val_loss: 0.2602 - val_acc: 0.9191\n",
            "Epoch 21/50\n",
            "64/64 [==============================] - 2s 24ms/step - loss: 0.3216 - acc: 0.8918 - val_loss: 0.2488 - val_acc: 0.9152\n",
            "Epoch 22/50\n",
            "64/64 [==============================] - 2s 24ms/step - loss: 0.2891 - acc: 0.9022 - val_loss: 0.2266 - val_acc: 0.9211\n",
            "Epoch 23/50\n",
            "64/64 [==============================] - 2s 24ms/step - loss: 0.2434 - acc: 0.9153 - val_loss: 0.2145 - val_acc: 0.9310\n",
            "Epoch 24/50\n",
            "64/64 [==============================] - 1s 23ms/step - loss: 0.2291 - acc: 0.9250 - val_loss: 0.2006 - val_acc: 0.9389\n",
            "Epoch 25/50\n",
            "64/64 [==============================] - 2s 24ms/step - loss: 0.2162 - acc: 0.9262 - val_loss: 0.1903 - val_acc: 0.9389\n",
            "Epoch 26/50\n",
            "64/64 [==============================] - 2s 23ms/step - loss: 0.2074 - acc: 0.9348 - val_loss: 0.2229 - val_acc: 0.9270\n",
            "Epoch 27/50\n",
            "64/64 [==============================] - 2s 24ms/step - loss: 0.2454 - acc: 0.9158 - val_loss: 0.2087 - val_acc: 0.9349\n",
            "Epoch 28/50\n",
            "64/64 [==============================] - 2s 24ms/step - loss: 0.2097 - acc: 0.9340 - val_loss: 0.1917 - val_acc: 0.9369\n",
            "Epoch 29/50\n",
            "64/64 [==============================] - 2s 24ms/step - loss: 0.2048 - acc: 0.9355 - val_loss: 0.1707 - val_acc: 0.9408\n",
            "Epoch 30/50\n",
            "64/64 [==============================] - 2s 24ms/step - loss: 0.1940 - acc: 0.9328 - val_loss: 0.1648 - val_acc: 0.9448\n",
            "Epoch 31/50\n",
            "64/64 [==============================] - 2s 24ms/step - loss: 0.1632 - acc: 0.9408 - val_loss: 0.1736 - val_acc: 0.9428\n",
            "Epoch 32/50\n",
            "64/64 [==============================] - 2s 24ms/step - loss: 0.1880 - acc: 0.9362 - val_loss: 0.1636 - val_acc: 0.9389\n",
            "Epoch 33/50\n",
            "64/64 [==============================] - 2s 24ms/step - loss: 0.1649 - acc: 0.9396 - val_loss: 0.1731 - val_acc: 0.9408\n",
            "Epoch 34/50\n",
            "64/64 [==============================] - 2s 24ms/step - loss: 0.1622 - acc: 0.9388 - val_loss: 0.1643 - val_acc: 0.9467\n",
            "Epoch 35/50\n",
            "64/64 [==============================] - 2s 24ms/step - loss: 0.1478 - acc: 0.9468 - val_loss: 0.2060 - val_acc: 0.9290\n",
            "Epoch 36/50\n",
            "64/64 [==============================] - 2s 24ms/step - loss: 0.1522 - acc: 0.9339 - val_loss: 0.1579 - val_acc: 0.9389\n",
            "Epoch 37/50\n",
            "61/64 [===========================>..] - ETA: 0s - loss: 0.1422 - acc: 0.94830.9531327\n",
            "\n",
            "Reached 95% accuracy so cancelling training!\n",
            "64/64 [==============================] - 2s 24ms/step - loss: 0.1392 - acc: 0.9485 - val_loss: 0.1489 - val_acc: 0.9448\n"
          ],
          "name": "stdout"
        },
        {
          "output_type": "execute_result",
          "data": {
            "text/plain": [
              "<tensorflow.python.keras.callbacks.History at 0x7f3135d0e198>"
            ]
          },
          "metadata": {
            "tags": []
          },
          "execution_count": 44
        }
      ]
    },
    {
      "cell_type": "markdown",
      "metadata": {
        "id": "Wy4emRxVqDtj",
        "colab_type": "text"
      },
      "source": [
        "**Accuracy**"
      ]
    },
    {
      "cell_type": "code",
      "metadata": {
        "id": "H9T0TS5-qC8E",
        "colab_type": "code",
        "colab": {
          "base_uri": "https://localhost:8080/",
          "height": 51
        },
        "outputId": "f5f687af-7ee3-458a-8039-59cad5ea024e"
      },
      "source": [
        "loss, accuracy = model.evaluate(test_ds)\n",
        "print(\"Accuracy\", accuracy)"
      ],
      "execution_count": 45,
      "outputs": [
        {
          "output_type": "stream",
          "text": [
            "20/20 [==============================] - 0s 12ms/step - loss: 0.1265 - acc: 0.9558\n",
            "Accuracy 0.95583594\n"
          ],
          "name": "stdout"
        }
      ]
    },
    {
      "cell_type": "markdown",
      "metadata": {
        "id": "JpPgph9UU8os",
        "colab_type": "text"
      },
      "source": [
        "**Decision Tree for comparison**"
      ]
    }
  ]
}